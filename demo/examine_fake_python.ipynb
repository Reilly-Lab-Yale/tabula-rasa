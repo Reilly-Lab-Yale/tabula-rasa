{
 "cells": [
  {
   "cell_type": "code",
   "execution_count": 8,
   "metadata": {},
   "outputs": [],
   "source": [
    "import numpy as np\n",
    "import pandas as pd\n",
    "import statsmodels.api as sm\n",
    "import statsmodels.formula.api as smf\n",
    "import statsmodels.discrete.count_model as cm"
   ]
  },
  {
   "cell_type": "code",
   "execution_count": 5,
   "metadata": {},
   "outputs": [],
   "source": [
    "fake_cres=pd.read_csv(\"fake_cres.csv\").drop(\"Unnamed: 0\",axis=1)"
   ]
  },
  {
   "cell_type": "code",
   "execution_count": 39,
   "metadata": {},
   "outputs": [
    {
     "data": {
      "text/html": [
       "<div>\n",
       "<style scoped>\n",
       "    .dataframe tbody tr th:only-of-type {\n",
       "        vertical-align: middle;\n",
       "    }\n",
       "\n",
       "    .dataframe tbody tr th {\n",
       "        vertical-align: top;\n",
       "    }\n",
       "\n",
       "    .dataframe thead th {\n",
       "        text-align: right;\n",
       "    }\n",
       "</style>\n",
       "<table border=\"1\" class=\"dataframe\">\n",
       "  <thead>\n",
       "    <tr style=\"text-align: right;\">\n",
       "      <th></th>\n",
       "      <th>CRE</th>\n",
       "      <th>Cell_type</th>\n",
       "      <th>replicate_ID</th>\n",
       "      <th>umi_count</th>\n",
       "    </tr>\n",
       "  </thead>\n",
       "  <tbody>\n",
       "    <tr>\n",
       "      <th>0</th>\n",
       "      <td>nobody</td>\n",
       "      <td>brain</td>\n",
       "      <td>1</td>\n",
       "      <td>0</td>\n",
       "    </tr>\n",
       "    <tr>\n",
       "      <th>1</th>\n",
       "      <td>nobody</td>\n",
       "      <td>brain</td>\n",
       "      <td>1</td>\n",
       "      <td>0</td>\n",
       "    </tr>\n",
       "    <tr>\n",
       "      <th>2</th>\n",
       "      <td>nobody</td>\n",
       "      <td>brain</td>\n",
       "      <td>1</td>\n",
       "      <td>0</td>\n",
       "    </tr>\n",
       "    <tr>\n",
       "      <th>3</th>\n",
       "      <td>nobody</td>\n",
       "      <td>brain</td>\n",
       "      <td>1</td>\n",
       "      <td>0</td>\n",
       "    </tr>\n",
       "    <tr>\n",
       "      <th>4</th>\n",
       "      <td>nobody</td>\n",
       "      <td>brain</td>\n",
       "      <td>1</td>\n",
       "      <td>0</td>\n",
       "    </tr>\n",
       "    <tr>\n",
       "      <th>...</th>\n",
       "      <td>...</td>\n",
       "      <td>...</td>\n",
       "      <td>...</td>\n",
       "      <td>...</td>\n",
       "    </tr>\n",
       "    <tr>\n",
       "      <th>14307</th>\n",
       "      <td>neurogene</td>\n",
       "      <td>blood</td>\n",
       "      <td>3</td>\n",
       "      <td>7</td>\n",
       "    </tr>\n",
       "    <tr>\n",
       "      <th>14308</th>\n",
       "      <td>neurogene</td>\n",
       "      <td>blood</td>\n",
       "      <td>3</td>\n",
       "      <td>26</td>\n",
       "    </tr>\n",
       "    <tr>\n",
       "      <th>14309</th>\n",
       "      <td>neurogene</td>\n",
       "      <td>blood</td>\n",
       "      <td>3</td>\n",
       "      <td>7</td>\n",
       "    </tr>\n",
       "    <tr>\n",
       "      <th>14310</th>\n",
       "      <td>neurogene</td>\n",
       "      <td>blood</td>\n",
       "      <td>3</td>\n",
       "      <td>15</td>\n",
       "    </tr>\n",
       "    <tr>\n",
       "      <th>14311</th>\n",
       "      <td>neurogene</td>\n",
       "      <td>blood</td>\n",
       "      <td>3</td>\n",
       "      <td>38</td>\n",
       "    </tr>\n",
       "  </tbody>\n",
       "</table>\n",
       "<p>14312 rows × 4 columns</p>\n",
       "</div>"
      ],
      "text/plain": [
       "             CRE Cell_type  replicate_ID  umi_count\n",
       "0         nobody     brain             1          0\n",
       "1         nobody     brain             1          0\n",
       "2         nobody     brain             1          0\n",
       "3         nobody     brain             1          0\n",
       "4         nobody     brain             1          0\n",
       "...          ...       ...           ...        ...\n",
       "14307  neurogene     blood             3          7\n",
       "14308  neurogene     blood             3         26\n",
       "14309  neurogene     blood             3          7\n",
       "14310  neurogene     blood             3         15\n",
       "14311  neurogene     blood             3         38\n",
       "\n",
       "[14312 rows x 4 columns]"
      ]
     },
     "execution_count": 39,
     "metadata": {},
     "output_type": "execute_result"
    }
   ],
   "source": [
    "fake_cres\n"
   ]
  },
  {
   "cell_type": "code",
   "execution_count": 41,
   "metadata": {},
   "outputs": [
    {
     "name": "stdout",
     "output_type": "stream",
     "text": [
      "<class 'str'>\n",
      "<class 'str'>\n"
     ]
    }
   ],
   "source": [
    "print(type(fake_cres[\"Cell_type\"][0]))\n",
    "print(type(fake_cres[\"CRE\"][0]))"
   ]
  },
  {
   "cell_type": "code",
   "execution_count": 48,
   "metadata": {},
   "outputs": [],
   "source": [
    "fake_cres['CRE']=pd.Categorical(fake_cres['CRE'])\n",
    "fake_cres['Cell_type']=pd.Categorical(fake_cres['Cell_type'])\n",
    "fake_cres['replicate_ID']=pd.Categorical(fake_cres['replicate_ID'])"
   ]
  },
  {
   "cell_type": "code",
   "execution_count": 50,
   "metadata": {},
   "outputs": [
    {
     "name": "stdout",
     "output_type": "stream",
     "text": [
      "Optimization terminated successfully.\n",
      "         Current function value: 1.748120\n",
      "         Iterations: 63\n",
      "         Function evaluations: 65\n",
      "         Gradient evaluations: 65\n"
     ]
    }
   ],
   "source": [
    "zinb_model = smdc.ZeroInflatedNegativeBinomialP.from_formula(\n",
    "    \"umi_count ~ CRE\",\n",
    "    fake_cres,\n",
    "    exog_infl=fake_cres[[\"replicate_ID\"]],\n",
    "    p=2\n",
    ")# type 2 for quadratic mean-var relationship. Not required, since default.\n",
    "\n",
    "#zinb_model = smdc.ZeroInflatedNegativeBinomialP.from_formula(\n",
    "#    formula=\"umi_count ~ CRE*Cell_type\",  # Count model (Negative Binomial)\n",
    "#    data=fake_cres,\n",
    "#    exog_infl=sm.add_constant(fake_cres[[\"replicate_ID\"]]),  # Zero-inflation model (logistic)\n",
    "#)\n",
    "\n",
    "#zinb_model=smdc.ZeroInflatedNegativeBinomialP(\n",
    "#    fake_cres[[\"umi_count\"]],\n",
    "#    sm.add_constant(fake_cres[[\"Cell_type\",\"\"]])\n",
    "#)\n",
    "\n",
    "zinb_result = zinb_model.fit(method=\"bfgs\",maxiter=200)"
   ]
  },
  {
   "cell_type": "markdown",
   "metadata": {},
   "source": [
    "https://stats.stackexchange.com/questions/284911/type-i-and-type-ii-negative-binomial-distribution-in-zero-inflated-negative-bino"
   ]
  },
  {
   "cell_type": "markdown",
   "metadata": {},
   "source": [
    "https://www.statsmodels.org/stable/generated/statsmodels.discrete.count_model.ZeroInflatedNegativeBinomialP.html\n",
    "\n",
    "https://www.statsmodels.org/dev/generated/statsmodels.discrete.count_model.ZeroInflatedNegativeBinomialP.from_formula.html#statsmodels.discrete.count_model.ZeroInflatedNegativeBinomialP.from_formula"
   ]
  },
  {
   "cell_type": "code",
   "execution_count": 12,
   "metadata": {},
   "outputs": [
    {
     "data": {
      "text/plain": [
       "<statsmodels.discrete.count_model.ZeroInflatedNegativeBinomialP at 0x154c039bda60>"
      ]
     },
     "execution_count": 12,
     "metadata": {},
     "output_type": "execute_result"
    }
   ],
   "source": [
    "zinb"
   ]
  }
 ],
 "metadata": {
  "kernelspec": {
   "display_name": "biopython",
   "language": "python",
   "name": "python3"
  },
  "language_info": {
   "codemirror_mode": {
    "name": "ipython",
    "version": 3
   },
   "file_extension": ".py",
   "mimetype": "text/x-python",
   "name": "python",
   "nbconvert_exporter": "python",
   "pygments_lexer": "ipython3",
   "version": "3.12.7"
  },
  "orig_nbformat": 4
 },
 "nbformat": 4,
 "nbformat_minor": 2
}
