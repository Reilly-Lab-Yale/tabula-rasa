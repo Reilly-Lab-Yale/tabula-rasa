{
 "cells": [
  {
   "cell_type": "code",
   "execution_count": 1,
   "metadata": {
    "vscode": {
     "languageId": "r"
    }
   },
   "outputs": [
    {
     "name": "stderr",
     "output_type": "stream",
     "text": [
      "Loading required package: pscl\n",
      "\n",
      "Classes and Methods for R originally developed in the\n",
      "Political Science Computational Laboratory\n",
      "Department of Political Science\n",
      "Stanford University (2002-2015),\n",
      "by and under the direction of Simon Jackman.\n",
      "hurdle and zeroinfl functions by Achim Zeileis.\n",
      "\n",
      "Loading required package: tibble\n",
      "\n",
      "── \u001b[1mAttaching core tidyverse packages\u001b[22m ──────────────────────── tidyverse 2.0.0 ──\n",
      "\u001b[32m✔\u001b[39m \u001b[34mdplyr    \u001b[39m 1.1.4     \u001b[32m✔\u001b[39m \u001b[34mpurrr    \u001b[39m 1.0.2\n",
      "\u001b[32m✔\u001b[39m \u001b[34mforcats  \u001b[39m 1.0.0     \u001b[32m✔\u001b[39m \u001b[34mreadr    \u001b[39m 2.1.5\n",
      "\u001b[32m✔\u001b[39m \u001b[34mggplot2  \u001b[39m 3.5.1     \u001b[32m✔\u001b[39m \u001b[34mstringr  \u001b[39m 1.5.1\n",
      "\u001b[32m✔\u001b[39m \u001b[34mlubridate\u001b[39m 1.9.4     \u001b[32m✔\u001b[39m \u001b[34mtidyr    \u001b[39m 1.3.1\n",
      "── \u001b[1mConflicts\u001b[22m ────────────────────────────────────────── tidyverse_conflicts() ──\n",
      "\u001b[31m✖\u001b[39m \u001b[34mdplyr\u001b[39m::\u001b[32mfilter()\u001b[39m masks \u001b[34mstats\u001b[39m::filter()\n",
      "\u001b[31m✖\u001b[39m \u001b[34mdplyr\u001b[39m::\u001b[32mlag()\u001b[39m    masks \u001b[34mstats\u001b[39m::lag()\n",
      "\u001b[36mℹ\u001b[39m Use the conflicted package (\u001b[3m\u001b[34m<http://conflicted.r-lib.org/>\u001b[39m\u001b[23m) to force all conflicts to become errors\n"
     ]
    }
   ],
   "source": [
    "require(pscl)\n",
    "require(tibble)\n",
    "library(tidyverse)"
   ]
  },
  {
   "cell_type": "code",
   "execution_count": 43,
   "metadata": {
    "vscode": {
     "languageId": "r"
    }
   },
   "outputs": [
    {
     "name": "stderr",
     "output_type": "stream",
     "text": [
      "\u001b[1m\u001b[22mNew names:\n",
      "\u001b[36m•\u001b[39m `` -> `...1`\n"
     ]
    },
    {
     "name": "stderr",
     "output_type": "stream",
     "text": [
      "\u001b[1mRows: \u001b[22m\u001b[34m14312\u001b[39m \u001b[1mColumns: \u001b[22m\u001b[34m5\u001b[39m\n",
      "\u001b[36m──\u001b[39m \u001b[1mColumn specification\u001b[22m \u001b[36m────────────────────────────────────────────────────────\u001b[39m\n",
      "\u001b[1mDelimiter:\u001b[22m \",\"\n",
      "\u001b[31mchr\u001b[39m (2): CRE, Cell_type\n",
      "\u001b[32mdbl\u001b[39m (3): ...1, replicate_ID, umi_count\n",
      "\n",
      "\u001b[36mℹ\u001b[39m Use `spec()` to retrieve the full column specification for this data.\n",
      "\u001b[36mℹ\u001b[39m Specify the column types or set `show_col_types = FALSE` to quiet this message.\n"
     ]
    }
   ],
   "source": [
    "fake_cres<-read_csv(\"fake_cres.csv\")"
   ]
  },
  {
   "cell_type": "code",
   "execution_count": 44,
   "metadata": {
    "vscode": {
     "languageId": "r"
    }
   },
   "outputs": [],
   "source": [
    "#definitely matters for this one\n",
    "fake_cres$replicate_ID <- factor(fake_cres$replicate_ID)\n",
    "\n",
    "#probably doesn't matter for these, but to be safe...\n",
    "fake_cres$CRE <- factor(fake_cres$CRE)\n",
    "fake_cres$Cell_type <- factor(fake_cres$Cell_type)"
   ]
  },
  {
   "cell_type": "code",
   "execution_count": 45,
   "metadata": {
    "vscode": {
     "languageId": "r"
    }
   },
   "outputs": [
    {
     "data": {
      "text/html": [
       "<table class=\"dataframe\">\n",
       "<caption>A tibble: 6 × 5</caption>\n",
       "<thead>\n",
       "\t<tr><th scope=col>...1</th><th scope=col>CRE</th><th scope=col>Cell_type</th><th scope=col>replicate_ID</th><th scope=col>umi_count</th></tr>\n",
       "\t<tr><th scope=col>&lt;dbl&gt;</th><th scope=col>&lt;fct&gt;</th><th scope=col>&lt;fct&gt;</th><th scope=col>&lt;fct&gt;</th><th scope=col>&lt;dbl&gt;</th></tr>\n",
       "</thead>\n",
       "<tbody>\n",
       "\t<tr><td>0</td><td>nobody</td><td>brain</td><td>1</td><td>0</td></tr>\n",
       "\t<tr><td>1</td><td>nobody</td><td>brain</td><td>1</td><td>0</td></tr>\n",
       "\t<tr><td>2</td><td>nobody</td><td>brain</td><td>1</td><td>0</td></tr>\n",
       "\t<tr><td>3</td><td>nobody</td><td>brain</td><td>1</td><td>0</td></tr>\n",
       "\t<tr><td>4</td><td>nobody</td><td>brain</td><td>1</td><td>0</td></tr>\n",
       "\t<tr><td>5</td><td>nobody</td><td>brain</td><td>1</td><td>0</td></tr>\n",
       "</tbody>\n",
       "</table>\n"
      ],
      "text/latex": [
       "A tibble: 6 × 5\n",
       "\\begin{tabular}{lllll}\n",
       " ...1 & CRE & Cell\\_type & replicate\\_ID & umi\\_count\\\\\n",
       " <dbl> & <fct> & <fct> & <fct> & <dbl>\\\\\n",
       "\\hline\n",
       "\t 0 & nobody & brain & 1 & 0\\\\\n",
       "\t 1 & nobody & brain & 1 & 0\\\\\n",
       "\t 2 & nobody & brain & 1 & 0\\\\\n",
       "\t 3 & nobody & brain & 1 & 0\\\\\n",
       "\t 4 & nobody & brain & 1 & 0\\\\\n",
       "\t 5 & nobody & brain & 1 & 0\\\\\n",
       "\\end{tabular}\n"
      ],
      "text/markdown": [
       "\n",
       "A tibble: 6 × 5\n",
       "\n",
       "| ...1 &lt;dbl&gt; | CRE &lt;fct&gt; | Cell_type &lt;fct&gt; | replicate_ID &lt;fct&gt; | umi_count &lt;dbl&gt; |\n",
       "|---|---|---|---|---|\n",
       "| 0 | nobody | brain | 1 | 0 |\n",
       "| 1 | nobody | brain | 1 | 0 |\n",
       "| 2 | nobody | brain | 1 | 0 |\n",
       "| 3 | nobody | brain | 1 | 0 |\n",
       "| 4 | nobody | brain | 1 | 0 |\n",
       "| 5 | nobody | brain | 1 | 0 |\n",
       "\n"
      ],
      "text/plain": [
       "  ...1 CRE    Cell_type replicate_ID umi_count\n",
       "1 0    nobody brain     1            0        \n",
       "2 1    nobody brain     1            0        \n",
       "3 2    nobody brain     1            0        \n",
       "4 3    nobody brain     1            0        \n",
       "5 4    nobody brain     1            0        \n",
       "6 5    nobody brain     1            0        "
      ]
     },
     "metadata": {},
     "output_type": "display_data"
    }
   ],
   "source": [
    "head(fake_cres)"
   ]
  },
  {
   "cell_type": "markdown",
   "metadata": {},
   "source": [
    "```\n",
    "zinb_logit <- zeroinfl(UMIs_mBC ~ rep_id + CRE_id | rep_id,\n",
    "               dist = 'negbin',\n",
    "               data = data_cardio, link='logit')\n",
    "```"
   ]
  },
  {
   "cell_type": "code",
   "execution_count": 47,
   "metadata": {
    "vscode": {
     "languageId": "r"
    }
   },
   "outputs": [],
   "source": [
    "zinb <- zeroinfl(umi_count ~ CRE*Cell_type +0|replicate_ID,\n",
    "    dist='negbin',\n",
    "    data=fake_cres)\n",
    "\n",
    "# in NB estimation no intercept makes the coef. more interpretable\n",
    "# It also makes logical sense : No CREs means no expression !\n",
    "# CRE alone : inherent CRE strength (like TFs which are in ALL cell types). \n",
    "# Cell-type alone : probably how much RNA is in that cell-type\n",
    "# CRE x cell-type: how cell-type modifies CRE activity (what TFs are ONLY in that cell type)\n",
    "# note that umi_count ~ CRE:`Cell-type` alone fails to converge"
   ]
  },
  {
   "cell_type": "code",
   "execution_count": 48,
   "metadata": {
    "vscode": {
     "languageId": "r"
    }
   },
   "outputs": [
    {
     "data": {
      "text/plain": [
       "\n",
       "Call:\n",
       "zeroinfl(formula = umi_count ~ CRE * Cell_type + 0 | replicate_ID, data = fake_cres, \n",
       "    dist = \"negbin\")\n",
       "\n",
       "Count model coefficients (negbin with log link):\n",
       "               CREeverybody                 CREneurogene  \n",
       "                    4.64219                      2.80138  \n",
       "                  CREnobody                   CREredgene  \n",
       "                    0.62984                      4.63772  \n",
       "                CREsomebody               Cell_typebrain  \n",
       "                    2.56032                      0.03802  \n",
       "CREneurogene:Cell_typebrain     CREnobody:Cell_typebrain  \n",
       "                    1.71354                     -0.64983  \n",
       "  CREredgene:Cell_typebrain   CREsomebody:Cell_typebrain  \n",
       "                   -1.22715                     -0.28217  \n",
       "Theta = 3.0508 \n",
       "\n",
       "Zero-inflation model coefficients (binomial with logit link):\n",
       "  (Intercept)  replicate_ID2  replicate_ID3  \n",
       "       1.3499        -1.3278         0.8831  \n"
      ]
     },
     "metadata": {},
     "output_type": "display_data"
    }
   ],
   "source": [
    "zinb"
   ]
  },
  {
   "cell_type": "markdown",
   "metadata": {},
   "source": [
    "Ok, let's start with the zero-inflation parameter, since that's simpler. \n",
    "\n",
    "logit(binomial parameter)=intercept + bool_id2 * (-1.3278) + bool_id3 * (0.8831)\n",
    "\n",
    "Parameter is parameter of binomial distribution. Assuming \"success\" means \"not a zero\", then zero inflation as picked in data-creation will be 1-binomial.\n",
    "\n",
    "(If \"success\" is \"is a zero\" then we can skip the 1- part. )"
   ]
  },
  {
   "cell_type": "code",
   "execution_count": 49,
   "metadata": {
    "vscode": {
     "languageId": "r"
    }
   },
   "outputs": [
    {
     "data": {
      "text/html": [
       "'list'"
      ],
      "text/latex": [
       "'list'"
      ],
      "text/markdown": [
       "'list'"
      ],
      "text/plain": [
       "[1] \"list\""
      ]
     },
     "metadata": {},
     "output_type": "display_data"
    }
   ],
   "source": [
    "typeof(zinb)"
   ]
  },
  {
   "cell_type": "code",
   "execution_count": 50,
   "metadata": {
    "vscode": {
     "languageId": "r"
    }
   },
   "outputs": [
    {
     "data": {
      "text/html": [
       "<style>\n",
       ".list-inline {list-style: none; margin:0; padding: 0}\n",
       ".list-inline>li {display: inline-block}\n",
       ".list-inline>li:not(:last-child)::after {content: \"\\00b7\"; padding: 0 .5ex}\n",
       "</style>\n",
       "<ol class=list-inline><li>'call'</li><li>'coefficients'</li><li>'contrasts'</li><li>'control'</li><li>'converged'</li><li>'df.null'</li><li>'df.residual'</li><li>'dist'</li><li>'fitted.values'</li><li>'formula'</li><li>'levels'</li><li>'link'</li><li>'linkinv'</li><li>'loglik'</li><li>'method'</li><li>'model'</li><li>'n'</li><li>'offset'</li><li>'optim'</li><li>'residuals'</li><li>'SE.logtheta'</li><li>'start'</li><li>'terms'</li><li>'theta'</li><li>'vcov'</li><li>'weights'</li><li>'y'</li></ol>\n"
      ],
      "text/latex": [
       "\\begin{enumerate*}\n",
       "\\item 'call'\n",
       "\\item 'coefficients'\n",
       "\\item 'contrasts'\n",
       "\\item 'control'\n",
       "\\item 'converged'\n",
       "\\item 'df.null'\n",
       "\\item 'df.residual'\n",
       "\\item 'dist'\n",
       "\\item 'fitted.values'\n",
       "\\item 'formula'\n",
       "\\item 'levels'\n",
       "\\item 'link'\n",
       "\\item 'linkinv'\n",
       "\\item 'loglik'\n",
       "\\item 'method'\n",
       "\\item 'model'\n",
       "\\item 'n'\n",
       "\\item 'offset'\n",
       "\\item 'optim'\n",
       "\\item 'residuals'\n",
       "\\item 'SE.logtheta'\n",
       "\\item 'start'\n",
       "\\item 'terms'\n",
       "\\item 'theta'\n",
       "\\item 'vcov'\n",
       "\\item 'weights'\n",
       "\\item 'y'\n",
       "\\end{enumerate*}\n"
      ],
      "text/markdown": [
       "1. 'call'\n",
       "2. 'coefficients'\n",
       "3. 'contrasts'\n",
       "4. 'control'\n",
       "5. 'converged'\n",
       "6. 'df.null'\n",
       "7. 'df.residual'\n",
       "8. 'dist'\n",
       "9. 'fitted.values'\n",
       "10. 'formula'\n",
       "11. 'levels'\n",
       "12. 'link'\n",
       "13. 'linkinv'\n",
       "14. 'loglik'\n",
       "15. 'method'\n",
       "16. 'model'\n",
       "17. 'n'\n",
       "18. 'offset'\n",
       "19. 'optim'\n",
       "20. 'residuals'\n",
       "21. 'SE.logtheta'\n",
       "22. 'start'\n",
       "23. 'terms'\n",
       "24. 'theta'\n",
       "25. 'vcov'\n",
       "26. 'weights'\n",
       "27. 'y'\n",
       "\n",
       "\n"
      ],
      "text/plain": [
       " [1] \"call\"          \"coefficients\"  \"contrasts\"     \"control\"      \n",
       " [5] \"converged\"     \"df.null\"       \"df.residual\"   \"dist\"         \n",
       " [9] \"fitted.values\" \"formula\"       \"levels\"        \"link\"         \n",
       "[13] \"linkinv\"       \"loglik\"        \"method\"        \"model\"        \n",
       "[17] \"n\"             \"offset\"        \"optim\"         \"residuals\"    \n",
       "[21] \"SE.logtheta\"   \"start\"         \"terms\"         \"theta\"        \n",
       "[25] \"vcov\"          \"weights\"       \"y\"            "
      ]
     },
     "metadata": {},
     "output_type": "display_data"
    }
   ],
   "source": [
    "ls(zinb)"
   ]
  },
  {
   "cell_type": "code",
   "execution_count": 51,
   "metadata": {
    "vscode": {
     "languageId": "r"
    }
   },
   "outputs": [
    {
     "data": {
      "text/html": [
       "<dl>\n",
       "\t<dt>$count</dt>\n",
       "\t\t<dd><style>\n",
       ".dl-inline {width: auto; margin:0; padding: 0}\n",
       ".dl-inline>dt, .dl-inline>dd {float: none; width: auto; display: inline-block}\n",
       ".dl-inline>dt::after {content: \":\\0020\"; padding-right: .5ex}\n",
       ".dl-inline>dt:not(:first-of-type) {padding-left: .5ex}\n",
       "</style><dl class=dl-inline><dt>CREeverybody</dt><dd>4.64218549124501</dd><dt>CREneurogene</dt><dd>2.80137858023834</dd><dt>CREnobody</dt><dd>0.629844830842563</dd><dt>CREredgene</dt><dd>4.63771831012624</dd><dt>CREsomebody</dt><dd>2.56031911762759</dd><dt>Cell_typebrain</dt><dd>0.0380154901475739</dd><dt>CREneurogene:Cell_typebrain</dt><dd>1.71354030283903</dd><dt>CREnobody:Cell_typebrain</dt><dd>-0.649826062758364</dd><dt>CREredgene:Cell_typebrain</dt><dd>-1.22715075212401</dd><dt>CREsomebody:Cell_typebrain</dt><dd>-0.282170184058714</dd></dl>\n",
       "</dd>\n",
       "\t<dt>$zero</dt>\n",
       "\t\t<dd><style>\n",
       ".dl-inline {width: auto; margin:0; padding: 0}\n",
       ".dl-inline>dt, .dl-inline>dd {float: none; width: auto; display: inline-block}\n",
       ".dl-inline>dt::after {content: \":\\0020\"; padding-right: .5ex}\n",
       ".dl-inline>dt:not(:first-of-type) {padding-left: .5ex}\n",
       "</style><dl class=dl-inline><dt>(Intercept)</dt><dd>1.34986163780101</dd><dt>replicate_ID2</dt><dd>-1.32777217158174</dd><dt>replicate_ID3</dt><dd>0.883129752149744</dd></dl>\n",
       "</dd>\n",
       "</dl>\n"
      ],
      "text/latex": [
       "\\begin{description}\n",
       "\\item[\\$count] \\begin{description*}\n",
       "\\item[CREeverybody] 4.64218549124501\n",
       "\\item[CREneurogene] 2.80137858023834\n",
       "\\item[CREnobody] 0.629844830842563\n",
       "\\item[CREredgene] 4.63771831012624\n",
       "\\item[CREsomebody] 2.56031911762759\n",
       "\\item[Cell\\textbackslash{}\\_typebrain] 0.0380154901475739\n",
       "\\item[CREneurogene:Cell\\textbackslash{}\\_typebrain] 1.71354030283903\n",
       "\\item[CREnobody:Cell\\textbackslash{}\\_typebrain] -0.649826062758364\n",
       "\\item[CREredgene:Cell\\textbackslash{}\\_typebrain] -1.22715075212401\n",
       "\\item[CREsomebody:Cell\\textbackslash{}\\_typebrain] -0.282170184058714\n",
       "\\end{description*}\n",
       "\n",
       "\\item[\\$zero] \\begin{description*}\n",
       "\\item[(Intercept)] 1.34986163780101\n",
       "\\item[replicate\\textbackslash{}\\_ID2] -1.32777217158174\n",
       "\\item[replicate\\textbackslash{}\\_ID3] 0.883129752149744\n",
       "\\end{description*}\n",
       "\n",
       "\\end{description}\n"
      ],
      "text/markdown": [
       "$count\n",
       ":   CREeverybody\n",
       ":   4.64218549124501CREneurogene\n",
       ":   2.80137858023834CREnobody\n",
       ":   0.629844830842563CREredgene\n",
       ":   4.63771831012624CREsomebody\n",
       ":   2.56031911762759Cell_typebrain\n",
       ":   0.0380154901475739CREneurogene:Cell_typebrain\n",
       ":   1.71354030283903CREnobody:Cell_typebrain\n",
       ":   -0.649826062758364CREredgene:Cell_typebrain\n",
       ":   -1.22715075212401CREsomebody:Cell_typebrain\n",
       ":   -0.282170184058714\n",
       "\n",
       "\n",
       "$zero\n",
       ":   (Intercept)\n",
       ":   1.34986163780101replicate_ID2\n",
       ":   -1.32777217158174replicate_ID3\n",
       ":   0.883129752149744\n",
       "\n",
       "\n",
       "\n",
       "\n"
      ],
      "text/plain": [
       "$count\n",
       "               CREeverybody                CREneurogene \n",
       "                 4.64218549                  2.80137858 \n",
       "                  CREnobody                  CREredgene \n",
       "                 0.62984483                  4.63771831 \n",
       "                CREsomebody              Cell_typebrain \n",
       "                 2.56031912                  0.03801549 \n",
       "CREneurogene:Cell_typebrain    CREnobody:Cell_typebrain \n",
       "                 1.71354030                 -0.64982606 \n",
       "  CREredgene:Cell_typebrain  CREsomebody:Cell_typebrain \n",
       "                -1.22715075                 -0.28217018 \n",
       "\n",
       "$zero\n",
       "  (Intercept) replicate_ID2 replicate_ID3 \n",
       "    1.3498616    -1.3277722     0.8831298 \n"
      ]
     },
     "metadata": {},
     "output_type": "display_data"
    }
   ],
   "source": [
    "zinb[[\"coefficients\"]]"
   ]
  },
  {
   "cell_type": "code",
   "execution_count": 52,
   "metadata": {
    "vscode": {
     "languageId": "r"
    }
   },
   "outputs": [
    {
     "data": {
      "text/html": [
       "<style>\n",
       ".dl-inline {width: auto; margin:0; padding: 0}\n",
       ".dl-inline>dt, .dl-inline>dd {float: none; width: auto; display: inline-block}\n",
       ".dl-inline>dt::after {content: \":\\0020\"; padding-right: .5ex}\n",
       ".dl-inline>dt:not(:first-of-type) {padding-left: .5ex}\n",
       "</style><dl class=dl-inline><dt>(Intercept)</dt><dd>1.34986163780101</dd><dt>replicate_ID2</dt><dd>-1.32777217158174</dd><dt>replicate_ID3</dt><dd>0.883129752149744</dd></dl>\n"
      ],
      "text/latex": [
       "\\begin{description*}\n",
       "\\item[(Intercept)] 1.34986163780101\n",
       "\\item[replicate\\textbackslash{}\\_ID2] -1.32777217158174\n",
       "\\item[replicate\\textbackslash{}\\_ID3] 0.883129752149744\n",
       "\\end{description*}\n"
      ],
      "text/markdown": [
       "(Intercept)\n",
       ":   1.34986163780101replicate_ID2\n",
       ":   -1.32777217158174replicate_ID3\n",
       ":   0.883129752149744\n",
       "\n"
      ],
      "text/plain": [
       "  (Intercept) replicate_ID2 replicate_ID3 \n",
       "    1.3498616    -1.3277722     0.8831298 "
      ]
     },
     "metadata": {},
     "output_type": "display_data"
    }
   ],
   "source": [
    "zinb[[\"coefficients\"]][[\"zero\"]]"
   ]
  },
  {
   "cell_type": "code",
   "execution_count": 75,
   "metadata": {
    "vscode": {
     "languageId": "r"
    }
   },
   "outputs": [
    {
     "data": {
      "text/html": [
       "<table class=\"dataframe\">\n",
       "<caption>A matrix: 3 × 3 of type dbl</caption>\n",
       "<thead>\n",
       "\t<tr><th></th><th scope=col>1</th><th scope=col>2</th><th scope=col>3</th></tr>\n",
       "</thead>\n",
       "<tbody>\n",
       "\t<tr><th scope=row>(Intercept)</th><td>1</td><td>1</td><td>1</td></tr>\n",
       "\t<tr><th scope=row>replicate_ID2</th><td>0</td><td>1</td><td>0</td></tr>\n",
       "\t<tr><th scope=row>replicate_ID3</th><td>0</td><td>0</td><td>1</td></tr>\n",
       "</tbody>\n",
       "</table>\n"
      ],
      "text/latex": [
       "A matrix: 3 × 3 of type dbl\n",
       "\\begin{tabular}{r|lll}\n",
       "  & 1 & 2 & 3\\\\\n",
       "\\hline\n",
       "\t(Intercept) & 1 & 1 & 1\\\\\n",
       "\treplicate\\_ID2 & 0 & 1 & 0\\\\\n",
       "\treplicate\\_ID3 & 0 & 0 & 1\\\\\n",
       "\\end{tabular}\n"
      ],
      "text/markdown": [
       "\n",
       "A matrix: 3 × 3 of type dbl\n",
       "\n",
       "| <!--/--> | 1 | 2 | 3 |\n",
       "|---|---|---|---|\n",
       "| (Intercept) | 1 | 1 | 1 |\n",
       "| replicate_ID2 | 0 | 1 | 0 |\n",
       "| replicate_ID3 | 0 | 0 | 1 |\n",
       "\n"
      ],
      "text/plain": [
       "              1 2 3\n",
       "(Intercept)   1 1 1\n",
       "replicate_ID2 0 1 0\n",
       "replicate_ID3 0 0 1"
      ]
     },
     "metadata": {},
     "output_type": "display_data"
    }
   ],
   "source": [
    "#OK, let's make a little matrix of all possibilities...\n",
    "zeroinfl<-matrix(c(1,1,1,0,1,0,0,0,1),nrow=3,ncol=3)\n",
    "\n",
    "rownames(zeroinfl)=levels(fake_cres$replicate_ID)\n",
    "colnames(zeroinfl)<-names(zinb[[\"coefficients\"]][[\"zero\"]])\n",
    "\n",
    "t(zeroinfl)"
   ]
  },
  {
   "cell_type": "code",
   "execution_count": 79,
   "metadata": {
    "vscode": {
     "languageId": "r"
    }
   },
   "outputs": [
    {
     "data": {
      "text/html": [
       "<table class=\"dataframe\">\n",
       "<caption>A matrix: 3 × 3 of type dbl</caption>\n",
       "<thead>\n",
       "\t<tr><th></th><th scope=col>1</th><th scope=col>2</th><th scope=col>3</th></tr>\n",
       "</thead>\n",
       "<tbody>\n",
       "\t<tr><th scope=row>(Intercept)</th><td>1.349862</td><td> 1.349862</td><td>1.3498616</td></tr>\n",
       "\t<tr><th scope=row>replicate_ID2</th><td>0.000000</td><td>-1.327772</td><td>0.0000000</td></tr>\n",
       "\t<tr><th scope=row>replicate_ID3</th><td>0.000000</td><td> 0.000000</td><td>0.8831298</td></tr>\n",
       "</tbody>\n",
       "</table>\n"
      ],
      "text/latex": [
       "A matrix: 3 × 3 of type dbl\n",
       "\\begin{tabular}{r|lll}\n",
       "  & 1 & 2 & 3\\\\\n",
       "\\hline\n",
       "\t(Intercept) & 1.349862 &  1.349862 & 1.3498616\\\\\n",
       "\treplicate\\_ID2 & 0.000000 & -1.327772 & 0.0000000\\\\\n",
       "\treplicate\\_ID3 & 0.000000 &  0.000000 & 0.8831298\\\\\n",
       "\\end{tabular}\n"
      ],
      "text/markdown": [
       "\n",
       "A matrix: 3 × 3 of type dbl\n",
       "\n",
       "| <!--/--> | 1 | 2 | 3 |\n",
       "|---|---|---|---|\n",
       "| (Intercept) | 1.349862 |  1.349862 | 1.3498616 |\n",
       "| replicate_ID2 | 0.000000 | -1.327772 | 0.0000000 |\n",
       "| replicate_ID3 | 0.000000 |  0.000000 | 0.8831298 |\n",
       "\n"
      ],
      "text/plain": [
       "              1        2         3        \n",
       "(Intercept)   1.349862  1.349862 1.3498616\n",
       "replicate_ID2 0.000000 -1.327772 0.0000000\n",
       "replicate_ID3 0.000000  0.000000 0.8831298"
      ]
     },
     "metadata": {},
     "output_type": "display_data"
    }
   ],
   "source": [
    "weighted=zinb[[\"coefficients\"]][[\"zero\"]]*t(zeroinfl)#*matrix(zeroinfl,nrow=3,ncol=1)\n",
    "weighted"
   ]
  },
  {
   "cell_type": "code",
   "execution_count": 83,
   "metadata": {
    "vscode": {
     "languageId": "r"
    }
   },
   "outputs": [
    {
     "data": {
      "text/html": [
       "<style>\n",
       ".dl-inline {width: auto; margin:0; padding: 0}\n",
       ".dl-inline>dt, .dl-inline>dd {float: none; width: auto; display: inline-block}\n",
       ".dl-inline>dt::after {content: \":\\0020\"; padding-right: .5ex}\n",
       ".dl-inline>dt:not(:first-of-type) {padding-left: .5ex}\n",
       "</style><dl class=dl-inline><dt>1</dt><dd>1.34986163780101</dd><dt>2</dt><dd>0.0220894662192679</dd><dt>3</dt><dd>2.23299138995075</dd></dl>\n"
      ],
      "text/latex": [
       "\\begin{description*}\n",
       "\\item[1] 1.34986163780101\n",
       "\\item[2] 0.0220894662192679\n",
       "\\item[3] 2.23299138995075\n",
       "\\end{description*}\n"
      ],
      "text/markdown": [
       "1\n",
       ":   1.349861637801012\n",
       ":   0.02208946621926793\n",
       ":   2.23299138995075\n",
       "\n"
      ],
      "text/plain": [
       "         1          2          3 \n",
       "1.34986164 0.02208947 2.23299139 "
      ]
     },
     "metadata": {},
     "output_type": "display_data"
    }
   ],
   "source": [
    "logited_binom=colSums(weighted)\n",
    "logited_binom"
   ]
  },
  {
   "cell_type": "code",
   "execution_count": 85,
   "metadata": {
    "vscode": {
     "languageId": "r"
    }
   },
   "outputs": [
    {
     "data": {
      "text/html": [
       "<style>\n",
       ".dl-inline {width: auto; margin:0; padding: 0}\n",
       ".dl-inline>dt, .dl-inline>dd {float: none; width: auto; display: inline-block}\n",
       ".dl-inline>dt::after {content: \":\\0020\"; padding-right: .5ex}\n",
       ".dl-inline>dt:not(:first-of-type) {padding-left: .5ex}\n",
       "</style><dl class=dl-inline><dt>1</dt><dd>0.794107006752244</dd><dt>2</dt><dd>0.505522142015066</dd><dt>3</dt><dd>0.903173275671647</dd></dl>\n"
      ],
      "text/latex": [
       "\\begin{description*}\n",
       "\\item[1] 0.794107006752244\n",
       "\\item[2] 0.505522142015066\n",
       "\\item[3] 0.903173275671647\n",
       "\\end{description*}\n"
      ],
      "text/markdown": [
       "1\n",
       ":   0.7941070067522442\n",
       ":   0.5055221420150663\n",
       ":   0.903173275671647\n",
       "\n"
      ],
      "text/plain": [
       "        1         2         3 \n",
       "0.7941070 0.5055221 0.9031733 "
      ]
     },
     "metadata": {},
     "output_type": "display_data"
    }
   ],
   "source": [
    "invlogit <- function(x) {\n",
    "  return(1 / (1 + exp(-x)))\n",
    "}\n",
    "invlogit(logited_binom)"
   ]
  },
  {
   "cell_type": "markdown",
   "metadata": {},
   "source": [
    "Comparing to , "
   ]
  }
 ],
 "metadata": {
  "kernelspec": {
   "display_name": "R",
   "language": "R",
   "name": "ir"
  },
  "language_info": {
   "codemirror_mode": "r",
   "file_extension": ".r",
   "mimetype": "text/x-r-source",
   "name": "R",
   "pygments_lexer": "r",
   "version": "4.4.2"
  },
  "orig_nbformat": 4
 },
 "nbformat": 4,
 "nbformat_minor": 2
}
