{
 "cells": [
  {
   "cell_type": "markdown",
   "metadata": {},
   "source": [
    "# Initial loading & analysis"
   ]
  },
  {
   "cell_type": "code",
   "execution_count": 7,
   "metadata": {
    "vscode": {
     "languageId": "r"
    }
   },
   "outputs": [],
   "source": [
    "require(pscl)\n",
    "require(tibble)\n",
    "library(tidyverse)"
   ]
  },
  {
   "cell_type": "code",
   "execution_count": 8,
   "metadata": {
    "vscode": {
     "languageId": "r"
    }
   },
   "outputs": [
    {
     "name": "stderr",
     "output_type": "stream",
     "text": [
      "\u001b[1m\u001b[22mNew names:\n",
      "\u001b[36m•\u001b[39m `` -> `...1`\n"
     ]
    },
    {
     "name": "stderr",
     "output_type": "stream",
     "text": [
      "\u001b[1mRows: \u001b[22m\u001b[34m14312\u001b[39m \u001b[1mColumns: \u001b[22m\u001b[34m5\u001b[39m\n",
      "\u001b[36m──\u001b[39m \u001b[1mColumn specification\u001b[22m \u001b[36m────────────────────────────────────────────────────────\u001b[39m\n",
      "\u001b[1mDelimiter:\u001b[22m \",\"\n",
      "\u001b[31mchr\u001b[39m (2): CRE, Cell_type\n",
      "\u001b[32mdbl\u001b[39m (3): ...1, replicate_ID, umi_count\n",
      "\n",
      "\u001b[36mℹ\u001b[39m Use `spec()` to retrieve the full column specification for this data.\n",
      "\u001b[36mℹ\u001b[39m Specify the column types or set `show_col_types = FALSE` to quiet this message.\n"
     ]
    }
   ],
   "source": [
    "fake_cres<-read_csv(\"fake_cres.csv\")"
   ]
  },
  {
   "cell_type": "code",
   "execution_count": 9,
   "metadata": {
    "vscode": {
     "languageId": "r"
    }
   },
   "outputs": [],
   "source": [
    "#definitely matters for this one\n",
    "fake_cres$replicate_ID <- factor(fake_cres$replicate_ID)\n",
    "\n",
    "#probably doesn't matter for these, but to be safe...\n",
    "fake_cres$CRE <- factor(fake_cres$CRE)\n",
    "fake_cres$Cell_type <- factor(fake_cres$Cell_type)"
   ]
  },
  {
   "cell_type": "code",
   "execution_count": 10,
   "metadata": {
    "vscode": {
     "languageId": "r"
    }
   },
   "outputs": [
    {
     "data": {
      "text/html": [
       "<table class=\"dataframe\">\n",
       "<caption>A tibble: 6 × 5</caption>\n",
       "<thead>\n",
       "\t<tr><th scope=col>...1</th><th scope=col>CRE</th><th scope=col>Cell_type</th><th scope=col>replicate_ID</th><th scope=col>umi_count</th></tr>\n",
       "\t<tr><th scope=col>&lt;dbl&gt;</th><th scope=col>&lt;fct&gt;</th><th scope=col>&lt;fct&gt;</th><th scope=col>&lt;fct&gt;</th><th scope=col>&lt;dbl&gt;</th></tr>\n",
       "</thead>\n",
       "<tbody>\n",
       "\t<tr><td>0</td><td>nobody</td><td>brain</td><td>1</td><td>0</td></tr>\n",
       "\t<tr><td>1</td><td>nobody</td><td>brain</td><td>1</td><td>0</td></tr>\n",
       "\t<tr><td>2</td><td>nobody</td><td>brain</td><td>1</td><td>0</td></tr>\n",
       "\t<tr><td>3</td><td>nobody</td><td>brain</td><td>1</td><td>0</td></tr>\n",
       "\t<tr><td>4</td><td>nobody</td><td>brain</td><td>1</td><td>0</td></tr>\n",
       "\t<tr><td>5</td><td>nobody</td><td>brain</td><td>1</td><td>0</td></tr>\n",
       "</tbody>\n",
       "</table>\n"
      ],
      "text/latex": [
       "A tibble: 6 × 5\n",
       "\\begin{tabular}{lllll}\n",
       " ...1 & CRE & Cell\\_type & replicate\\_ID & umi\\_count\\\\\n",
       " <dbl> & <fct> & <fct> & <fct> & <dbl>\\\\\n",
       "\\hline\n",
       "\t 0 & nobody & brain & 1 & 0\\\\\n",
       "\t 1 & nobody & brain & 1 & 0\\\\\n",
       "\t 2 & nobody & brain & 1 & 0\\\\\n",
       "\t 3 & nobody & brain & 1 & 0\\\\\n",
       "\t 4 & nobody & brain & 1 & 0\\\\\n",
       "\t 5 & nobody & brain & 1 & 0\\\\\n",
       "\\end{tabular}\n"
      ],
      "text/markdown": [
       "\n",
       "A tibble: 6 × 5\n",
       "\n",
       "| ...1 &lt;dbl&gt; | CRE &lt;fct&gt; | Cell_type &lt;fct&gt; | replicate_ID &lt;fct&gt; | umi_count &lt;dbl&gt; |\n",
       "|---|---|---|---|---|\n",
       "| 0 | nobody | brain | 1 | 0 |\n",
       "| 1 | nobody | brain | 1 | 0 |\n",
       "| 2 | nobody | brain | 1 | 0 |\n",
       "| 3 | nobody | brain | 1 | 0 |\n",
       "| 4 | nobody | brain | 1 | 0 |\n",
       "| 5 | nobody | brain | 1 | 0 |\n",
       "\n"
      ],
      "text/plain": [
       "  ...1 CRE    Cell_type replicate_ID umi_count\n",
       "1 0    nobody brain     1            0        \n",
       "2 1    nobody brain     1            0        \n",
       "3 2    nobody brain     1            0        \n",
       "4 3    nobody brain     1            0        \n",
       "5 4    nobody brain     1            0        \n",
       "6 5    nobody brain     1            0        "
      ]
     },
     "metadata": {},
     "output_type": "display_data"
    }
   ],
   "source": [
    "head(fake_cres)"
   ]
  },
  {
   "cell_type": "markdown",
   "metadata": {},
   "source": [
    "```\n",
    "zinb_logit <- zeroinfl(UMIs_mBC ~ rep_id + CRE_id | rep_id,\n",
    "               dist = 'negbin',\n",
    "               data = data_cardio, link='logit')\n",
    "```"
   ]
  },
  {
   "cell_type": "code",
   "execution_count": 11,
   "metadata": {
    "vscode": {
     "languageId": "r"
    }
   },
   "outputs": [],
   "source": [
    "zinb <- zeroinfl(umi_count ~ CRE*Cell_type +0|replicate_ID,\n",
    "    dist='negbin',\n",
    "    data=fake_cres)\n",
    "\n",
    "# in NB estimation no intercept makes the coef. more interpretable\n",
    "# It also makes logical sense : No CREs means no expression !\n",
    "# CRE alone : inherent CRE strength (like TFs which are in ALL cell types). \n",
    "# Cell-type alone : probably how much RNA is in that cell-type\n",
    "# CRE x cell-type: how cell-type modifies CRE activity (what TFs are ONLY in that cell type)\n",
    "# note that umi_count ~ CRE:`Cell-type` alone fails to converge"
   ]
  },
  {
   "cell_type": "code",
   "execution_count": 12,
   "metadata": {
    "vscode": {
     "languageId": "r"
    }
   },
   "outputs": [
    {
     "data": {
      "text/plain": [
       "\n",
       "Call:\n",
       "zeroinfl(formula = umi_count ~ CRE * Cell_type + 0 | replicate_ID, data = fake_cres, \n",
       "    dist = \"negbin\")\n",
       "\n",
       "Count model coefficients (negbin with log link):\n",
       "               CREeverybody                 CREneurogene  \n",
       "                    4.63990                      2.74070  \n",
       "                  CREnobody                   CREredgene  \n",
       "                    0.66602                      4.65945  \n",
       "                CREsomebody               Cell_typebrain  \n",
       "                    2.52532                      0.03975  \n",
       "CREneurogene:Cell_typebrain     CREnobody:Cell_typebrain  \n",
       "                    1.78701                     -0.67922  \n",
       "  CREredgene:Cell_typebrain   CREsomebody:Cell_typebrain  \n",
       "                   -1.27374                     -0.26347  \n",
       "Theta = 3.487 \n",
       "\n",
       "Zero-inflation model coefficients (binomial with logit link):\n",
       "  (Intercept)  replicate_ID2  replicate_ID3  \n",
       "       1.3552        -1.3270         0.8892  \n"
      ]
     },
     "metadata": {},
     "output_type": "display_data"
    }
   ],
   "source": [
    "zinb"
   ]
  },
  {
   "cell_type": "markdown",
   "metadata": {},
   "source": [
    "First, let's examine theta. One assumes this is the value in $\\sigma^2=\\mu+\\mu^2/\\theta$. \n",
    "\n",
    "A decent estimate : 3.48 is reasonably close to 3.333."
   ]
  },
  {
   "cell_type": "markdown",
   "metadata": {},
   "source": [
    "Ok, let's start with the zero-inflation parameter, since that's simpler. \n",
    "\n",
    "logit(binomial parameter)=intercept + bool_id2 * (-1.3278) + bool_id3 * (0.8831)\n",
    "\n",
    "Parameter is parameter of binomial distribution. Assuming \"success\" means \"not a zero\", then zero inflation as picked in data-creation will be 1-binomial.\n",
    "\n",
    "(If \"success\" is \"is a zero\" then we can skip the 1- part. )"
   ]
  },
  {
   "cell_type": "markdown",
   "metadata": {},
   "source": [
    "# Recapitulation of zero-inflation parameter"
   ]
  },
  {
   "cell_type": "code",
   "execution_count": 13,
   "metadata": {
    "vscode": {
     "languageId": "r"
    }
   },
   "outputs": [
    {
     "data": {
      "text/html": [
       "'list'"
      ],
      "text/latex": [
       "'list'"
      ],
      "text/markdown": [
       "'list'"
      ],
      "text/plain": [
       "[1] \"list\""
      ]
     },
     "metadata": {},
     "output_type": "display_data"
    }
   ],
   "source": [
    "typeof(zinb)"
   ]
  },
  {
   "cell_type": "code",
   "execution_count": 14,
   "metadata": {
    "vscode": {
     "languageId": "r"
    }
   },
   "outputs": [
    {
     "data": {
      "text/html": [
       "<style>\n",
       ".list-inline {list-style: none; margin:0; padding: 0}\n",
       ".list-inline>li {display: inline-block}\n",
       ".list-inline>li:not(:last-child)::after {content: \"\\00b7\"; padding: 0 .5ex}\n",
       "</style>\n",
       "<ol class=list-inline><li>'call'</li><li>'coefficients'</li><li>'contrasts'</li><li>'control'</li><li>'converged'</li><li>'df.null'</li><li>'df.residual'</li><li>'dist'</li><li>'fitted.values'</li><li>'formula'</li><li>'levels'</li><li>'link'</li><li>'linkinv'</li><li>'loglik'</li><li>'method'</li><li>'model'</li><li>'n'</li><li>'offset'</li><li>'optim'</li><li>'residuals'</li><li>'SE.logtheta'</li><li>'start'</li><li>'terms'</li><li>'theta'</li><li>'vcov'</li><li>'weights'</li><li>'y'</li></ol>\n"
      ],
      "text/latex": [
       "\\begin{enumerate*}\n",
       "\\item 'call'\n",
       "\\item 'coefficients'\n",
       "\\item 'contrasts'\n",
       "\\item 'control'\n",
       "\\item 'converged'\n",
       "\\item 'df.null'\n",
       "\\item 'df.residual'\n",
       "\\item 'dist'\n",
       "\\item 'fitted.values'\n",
       "\\item 'formula'\n",
       "\\item 'levels'\n",
       "\\item 'link'\n",
       "\\item 'linkinv'\n",
       "\\item 'loglik'\n",
       "\\item 'method'\n",
       "\\item 'model'\n",
       "\\item 'n'\n",
       "\\item 'offset'\n",
       "\\item 'optim'\n",
       "\\item 'residuals'\n",
       "\\item 'SE.logtheta'\n",
       "\\item 'start'\n",
       "\\item 'terms'\n",
       "\\item 'theta'\n",
       "\\item 'vcov'\n",
       "\\item 'weights'\n",
       "\\item 'y'\n",
       "\\end{enumerate*}\n"
      ],
      "text/markdown": [
       "1. 'call'\n",
       "2. 'coefficients'\n",
       "3. 'contrasts'\n",
       "4. 'control'\n",
       "5. 'converged'\n",
       "6. 'df.null'\n",
       "7. 'df.residual'\n",
       "8. 'dist'\n",
       "9. 'fitted.values'\n",
       "10. 'formula'\n",
       "11. 'levels'\n",
       "12. 'link'\n",
       "13. 'linkinv'\n",
       "14. 'loglik'\n",
       "15. 'method'\n",
       "16. 'model'\n",
       "17. 'n'\n",
       "18. 'offset'\n",
       "19. 'optim'\n",
       "20. 'residuals'\n",
       "21. 'SE.logtheta'\n",
       "22. 'start'\n",
       "23. 'terms'\n",
       "24. 'theta'\n",
       "25. 'vcov'\n",
       "26. 'weights'\n",
       "27. 'y'\n",
       "\n",
       "\n"
      ],
      "text/plain": [
       " [1] \"call\"          \"coefficients\"  \"contrasts\"     \"control\"      \n",
       " [5] \"converged\"     \"df.null\"       \"df.residual\"   \"dist\"         \n",
       " [9] \"fitted.values\" \"formula\"       \"levels\"        \"link\"         \n",
       "[13] \"linkinv\"       \"loglik\"        \"method\"        \"model\"        \n",
       "[17] \"n\"             \"offset\"        \"optim\"         \"residuals\"    \n",
       "[21] \"SE.logtheta\"   \"start\"         \"terms\"         \"theta\"        \n",
       "[25] \"vcov\"          \"weights\"       \"y\"            "
      ]
     },
     "metadata": {},
     "output_type": "display_data"
    }
   ],
   "source": [
    "ls(zinb)"
   ]
  },
  {
   "cell_type": "code",
   "execution_count": 15,
   "metadata": {
    "vscode": {
     "languageId": "r"
    }
   },
   "outputs": [
    {
     "data": {
      "text/html": [
       "<dl>\n",
       "\t<dt>$count</dt>\n",
       "\t\t<dd><style>\n",
       ".dl-inline {width: auto; margin:0; padding: 0}\n",
       ".dl-inline>dt, .dl-inline>dd {float: none; width: auto; display: inline-block}\n",
       ".dl-inline>dt::after {content: \":\\0020\"; padding-right: .5ex}\n",
       ".dl-inline>dt:not(:first-of-type) {padding-left: .5ex}\n",
       "</style><dl class=dl-inline><dt>CREeverybody</dt><dd>4.6399013735587</dd><dt>CREneurogene</dt><dd>2.74070479473327</dd><dt>CREnobody</dt><dd>0.666023981359416</dd><dt>CREredgene</dt><dd>4.65945005940616</dd><dt>CREsomebody</dt><dd>2.52532092968229</dd><dt>Cell_typebrain</dt><dd>0.0397483852263657</dd><dt>CREneurogene:Cell_typebrain</dt><dd>1.78701483715908</dd><dt>CREnobody:Cell_typebrain</dt><dd>-0.679215652407811</dd><dt>CREredgene:Cell_typebrain</dt><dd>-1.27374496476884</dd><dt>CREsomebody:Cell_typebrain</dt><dd>-0.263465638676685</dd></dl>\n",
       "</dd>\n",
       "\t<dt>$zero</dt>\n",
       "\t\t<dd><style>\n",
       ".dl-inline {width: auto; margin:0; padding: 0}\n",
       ".dl-inline>dt, .dl-inline>dd {float: none; width: auto; display: inline-block}\n",
       ".dl-inline>dt::after {content: \":\\0020\"; padding-right: .5ex}\n",
       ".dl-inline>dt:not(:first-of-type) {padding-left: .5ex}\n",
       "</style><dl class=dl-inline><dt>(Intercept)</dt><dd>1.35519949599771</dd><dt>replicate_ID2</dt><dd>-1.32703958446071</dd><dt>replicate_ID3</dt><dd>0.889216897584963</dd></dl>\n",
       "</dd>\n",
       "</dl>\n"
      ],
      "text/latex": [
       "\\begin{description}\n",
       "\\item[\\$count] \\begin{description*}\n",
       "\\item[CREeverybody] 4.6399013735587\n",
       "\\item[CREneurogene] 2.74070479473327\n",
       "\\item[CREnobody] 0.666023981359416\n",
       "\\item[CREredgene] 4.65945005940616\n",
       "\\item[CREsomebody] 2.52532092968229\n",
       "\\item[Cell\\textbackslash{}\\_typebrain] 0.0397483852263657\n",
       "\\item[CREneurogene:Cell\\textbackslash{}\\_typebrain] 1.78701483715908\n",
       "\\item[CREnobody:Cell\\textbackslash{}\\_typebrain] -0.679215652407811\n",
       "\\item[CREredgene:Cell\\textbackslash{}\\_typebrain] -1.27374496476884\n",
       "\\item[CREsomebody:Cell\\textbackslash{}\\_typebrain] -0.263465638676685\n",
       "\\end{description*}\n",
       "\n",
       "\\item[\\$zero] \\begin{description*}\n",
       "\\item[(Intercept)] 1.35519949599771\n",
       "\\item[replicate\\textbackslash{}\\_ID2] -1.32703958446071\n",
       "\\item[replicate\\textbackslash{}\\_ID3] 0.889216897584963\n",
       "\\end{description*}\n",
       "\n",
       "\\end{description}\n"
      ],
      "text/markdown": [
       "$count\n",
       ":   CREeverybody\n",
       ":   4.6399013735587CREneurogene\n",
       ":   2.74070479473327CREnobody\n",
       ":   0.666023981359416CREredgene\n",
       ":   4.65945005940616CREsomebody\n",
       ":   2.52532092968229Cell_typebrain\n",
       ":   0.0397483852263657CREneurogene:Cell_typebrain\n",
       ":   1.78701483715908CREnobody:Cell_typebrain\n",
       ":   -0.679215652407811CREredgene:Cell_typebrain\n",
       ":   -1.27374496476884CREsomebody:Cell_typebrain\n",
       ":   -0.263465638676685\n",
       "\n",
       "\n",
       "$zero\n",
       ":   (Intercept)\n",
       ":   1.35519949599771replicate_ID2\n",
       ":   -1.32703958446071replicate_ID3\n",
       ":   0.889216897584963\n",
       "\n",
       "\n",
       "\n",
       "\n"
      ],
      "text/plain": [
       "$count\n",
       "               CREeverybody                CREneurogene \n",
       "                 4.63990137                  2.74070479 \n",
       "                  CREnobody                  CREredgene \n",
       "                 0.66602398                  4.65945006 \n",
       "                CREsomebody              Cell_typebrain \n",
       "                 2.52532093                  0.03974839 \n",
       "CREneurogene:Cell_typebrain    CREnobody:Cell_typebrain \n",
       "                 1.78701484                 -0.67921565 \n",
       "  CREredgene:Cell_typebrain  CREsomebody:Cell_typebrain \n",
       "                -1.27374496                 -0.26346564 \n",
       "\n",
       "$zero\n",
       "  (Intercept) replicate_ID2 replicate_ID3 \n",
       "    1.3551995    -1.3270396     0.8892169 \n"
      ]
     },
     "metadata": {},
     "output_type": "display_data"
    }
   ],
   "source": [
    "zinb[[\"coefficients\"]]"
   ]
  },
  {
   "cell_type": "code",
   "execution_count": 16,
   "metadata": {
    "vscode": {
     "languageId": "r"
    }
   },
   "outputs": [
    {
     "data": {
      "text/html": [
       "<style>\n",
       ".dl-inline {width: auto; margin:0; padding: 0}\n",
       ".dl-inline>dt, .dl-inline>dd {float: none; width: auto; display: inline-block}\n",
       ".dl-inline>dt::after {content: \":\\0020\"; padding-right: .5ex}\n",
       ".dl-inline>dt:not(:first-of-type) {padding-left: .5ex}\n",
       "</style><dl class=dl-inline><dt>(Intercept)</dt><dd>1.35519949599771</dd><dt>replicate_ID2</dt><dd>-1.32703958446071</dd><dt>replicate_ID3</dt><dd>0.889216897584963</dd></dl>\n"
      ],
      "text/latex": [
       "\\begin{description*}\n",
       "\\item[(Intercept)] 1.35519949599771\n",
       "\\item[replicate\\textbackslash{}\\_ID2] -1.32703958446071\n",
       "\\item[replicate\\textbackslash{}\\_ID3] 0.889216897584963\n",
       "\\end{description*}\n"
      ],
      "text/markdown": [
       "(Intercept)\n",
       ":   1.35519949599771replicate_ID2\n",
       ":   -1.32703958446071replicate_ID3\n",
       ":   0.889216897584963\n",
       "\n"
      ],
      "text/plain": [
       "  (Intercept) replicate_ID2 replicate_ID3 \n",
       "    1.3551995    -1.3270396     0.8892169 "
      ]
     },
     "metadata": {},
     "output_type": "display_data"
    }
   ],
   "source": [
    "zinb[[\"coefficients\"]][[\"zero\"]]"
   ]
  },
  {
   "cell_type": "code",
   "execution_count": 17,
   "metadata": {
    "vscode": {
     "languageId": "r"
    }
   },
   "outputs": [
    {
     "data": {
      "text/html": [
       "<table class=\"dataframe\">\n",
       "<caption>A matrix: 3 × 3 of type dbl</caption>\n",
       "<thead>\n",
       "\t<tr><th></th><th scope=col>1</th><th scope=col>2</th><th scope=col>3</th></tr>\n",
       "</thead>\n",
       "<tbody>\n",
       "\t<tr><th scope=row>(Intercept)</th><td>1</td><td>1</td><td>1</td></tr>\n",
       "\t<tr><th scope=row>replicate_ID2</th><td>0</td><td>1</td><td>0</td></tr>\n",
       "\t<tr><th scope=row>replicate_ID3</th><td>0</td><td>0</td><td>1</td></tr>\n",
       "</tbody>\n",
       "</table>\n"
      ],
      "text/latex": [
       "A matrix: 3 × 3 of type dbl\n",
       "\\begin{tabular}{r|lll}\n",
       "  & 1 & 2 & 3\\\\\n",
       "\\hline\n",
       "\t(Intercept) & 1 & 1 & 1\\\\\n",
       "\treplicate\\_ID2 & 0 & 1 & 0\\\\\n",
       "\treplicate\\_ID3 & 0 & 0 & 1\\\\\n",
       "\\end{tabular}\n"
      ],
      "text/markdown": [
       "\n",
       "A matrix: 3 × 3 of type dbl\n",
       "\n",
       "| <!--/--> | 1 | 2 | 3 |\n",
       "|---|---|---|---|\n",
       "| (Intercept) | 1 | 1 | 1 |\n",
       "| replicate_ID2 | 0 | 1 | 0 |\n",
       "| replicate_ID3 | 0 | 0 | 1 |\n",
       "\n"
      ],
      "text/plain": [
       "              1 2 3\n",
       "(Intercept)   1 1 1\n",
       "replicate_ID2 0 1 0\n",
       "replicate_ID3 0 0 1"
      ]
     },
     "metadata": {},
     "output_type": "display_data"
    }
   ],
   "source": [
    "#OK, let's make a little matrix of all possibilities...\n",
    "zeroinfl<-matrix(c(1,1,1,0,1,0,0,0,1),nrow=3,ncol=3)\n",
    "\n",
    "rownames(zeroinfl)=levels(fake_cres$replicate_ID)\n",
    "colnames(zeroinfl)<-names(zinb[[\"coefficients\"]][[\"zero\"]])\n",
    "\n",
    "t(zeroinfl)"
   ]
  },
  {
   "cell_type": "code",
   "execution_count": 18,
   "metadata": {
    "vscode": {
     "languageId": "r"
    }
   },
   "outputs": [
    {
     "data": {
      "text/html": [
       "<table class=\"dataframe\">\n",
       "<caption>A matrix: 3 × 3 of type dbl</caption>\n",
       "<thead>\n",
       "\t<tr><th></th><th scope=col>1</th><th scope=col>2</th><th scope=col>3</th></tr>\n",
       "</thead>\n",
       "<tbody>\n",
       "\t<tr><th scope=row>(Intercept)</th><td>1.355199</td><td> 1.355199</td><td>1.3551995</td></tr>\n",
       "\t<tr><th scope=row>replicate_ID2</th><td>0.000000</td><td>-1.327040</td><td>0.0000000</td></tr>\n",
       "\t<tr><th scope=row>replicate_ID3</th><td>0.000000</td><td> 0.000000</td><td>0.8892169</td></tr>\n",
       "</tbody>\n",
       "</table>\n"
      ],
      "text/latex": [
       "A matrix: 3 × 3 of type dbl\n",
       "\\begin{tabular}{r|lll}\n",
       "  & 1 & 2 & 3\\\\\n",
       "\\hline\n",
       "\t(Intercept) & 1.355199 &  1.355199 & 1.3551995\\\\\n",
       "\treplicate\\_ID2 & 0.000000 & -1.327040 & 0.0000000\\\\\n",
       "\treplicate\\_ID3 & 0.000000 &  0.000000 & 0.8892169\\\\\n",
       "\\end{tabular}\n"
      ],
      "text/markdown": [
       "\n",
       "A matrix: 3 × 3 of type dbl\n",
       "\n",
       "| <!--/--> | 1 | 2 | 3 |\n",
       "|---|---|---|---|\n",
       "| (Intercept) | 1.355199 |  1.355199 | 1.3551995 |\n",
       "| replicate_ID2 | 0.000000 | -1.327040 | 0.0000000 |\n",
       "| replicate_ID3 | 0.000000 |  0.000000 | 0.8892169 |\n",
       "\n"
      ],
      "text/plain": [
       "              1        2         3        \n",
       "(Intercept)   1.355199  1.355199 1.3551995\n",
       "replicate_ID2 0.000000 -1.327040 0.0000000\n",
       "replicate_ID3 0.000000  0.000000 0.8892169"
      ]
     },
     "metadata": {},
     "output_type": "display_data"
    }
   ],
   "source": [
    "weighted=zinb[[\"coefficients\"]][[\"zero\"]]*t(zeroinfl)#*matrix(zeroinfl,nrow=3,ncol=1)\n",
    "weighted"
   ]
  },
  {
   "cell_type": "code",
   "execution_count": 19,
   "metadata": {
    "vscode": {
     "languageId": "r"
    }
   },
   "outputs": [
    {
     "data": {
      "text/html": [
       "<style>\n",
       ".dl-inline {width: auto; margin:0; padding: 0}\n",
       ".dl-inline>dt, .dl-inline>dd {float: none; width: auto; display: inline-block}\n",
       ".dl-inline>dt::after {content: \":\\0020\"; padding-right: .5ex}\n",
       ".dl-inline>dt:not(:first-of-type) {padding-left: .5ex}\n",
       "</style><dl class=dl-inline><dt>1</dt><dd>1.35519949599771</dd><dt>2</dt><dd>0.0281599115370033</dd><dt>3</dt><dd>2.24441639358268</dd></dl>\n"
      ],
      "text/latex": [
       "\\begin{description*}\n",
       "\\item[1] 1.35519949599771\n",
       "\\item[2] 0.0281599115370033\n",
       "\\item[3] 2.24441639358268\n",
       "\\end{description*}\n"
      ],
      "text/markdown": [
       "1\n",
       ":   1.355199495997712\n",
       ":   0.02815991153700333\n",
       ":   2.24441639358268\n",
       "\n"
      ],
      "text/plain": [
       "         1          2          3 \n",
       "1.35519950 0.02815991 2.24441639 "
      ]
     },
     "metadata": {},
     "output_type": "display_data"
    }
   ],
   "source": [
    "logited_binom=colSums(weighted)\n",
    "logited_binom"
   ]
  },
  {
   "cell_type": "code",
   "execution_count": 20,
   "metadata": {
    "vscode": {
     "languageId": "r"
    }
   },
   "outputs": [
    {
     "data": {
      "text/html": [
       "<style>\n",
       ".dl-inline {width: auto; margin:0; padding: 0}\n",
       ".dl-inline>dt, .dl-inline>dd {float: none; width: auto; display: inline-block}\n",
       ".dl-inline>dt::after {content: \":\\0020\"; padding-right: .5ex}\n",
       ".dl-inline>dt:not(:first-of-type) {padding-left: .5ex}\n",
       "</style><dl class=dl-inline><dt>1</dt><dd>0.794978382228677</dd><dt>2</dt><dd>0.507039512707304</dd><dt>3</dt><dd>0.904167815281226</dd></dl>\n"
      ],
      "text/latex": [
       "\\begin{description*}\n",
       "\\item[1] 0.794978382228677\n",
       "\\item[2] 0.507039512707304\n",
       "\\item[3] 0.904167815281226\n",
       "\\end{description*}\n"
      ],
      "text/markdown": [
       "1\n",
       ":   0.7949783822286772\n",
       ":   0.5070395127073043\n",
       ":   0.904167815281226\n",
       "\n"
      ],
      "text/plain": [
       "        1         2         3 \n",
       "0.7949784 0.5070395 0.9041678 "
      ]
     },
     "metadata": {},
     "output_type": "display_data"
    }
   ],
   "source": [
    "invlogit <- function(x) {\n",
    "  return(1 / (1 + exp(-x)))\n",
    "}\n",
    "invlogit(logited_binom)"
   ]
  },
  {
   "cell_type": "markdown",
   "metadata": {},
   "source": [
    "Comparing to the original valies of 0.8, 0.5, 0.9, we see this is quite accurate!"
   ]
  },
  {
   "cell_type": "markdown",
   "metadata": {},
   "source": [
    "# Recapitulating $\\mu$ values"
   ]
  },
  {
   "cell_type": "code",
   "execution_count": 52,
   "metadata": {
    "vscode": {
     "languageId": "r"
    }
   },
   "outputs": [
    {
     "data": {
      "text/html": [
       "<table class=\"dataframe\">\n",
       "<caption>A matrix: 10 × 10 of type dbl</caption>\n",
       "<thead>\n",
       "\t<tr><th></th><th scope=col>everybody_brain</th><th scope=col>neurogene_brain</th><th scope=col>nobody_brain</th><th scope=col>redgene_brain</th><th scope=col>somebody_brain</th><th scope=col>everybody_blood</th><th scope=col>neurogene_blood</th><th scope=col>nobody_blood</th><th scope=col>redgene_blood</th><th scope=col>somebody_blood</th></tr>\n",
       "</thead>\n",
       "<tbody>\n",
       "\t<tr><th scope=row>CREeverybody</th><td>1</td><td>0</td><td>0</td><td>0</td><td>0</td><td>1</td><td>0</td><td>0</td><td>0</td><td>0</td></tr>\n",
       "\t<tr><th scope=row>CREneurogene</th><td>0</td><td>1</td><td>0</td><td>0</td><td>0</td><td>0</td><td>1</td><td>0</td><td>0</td><td>0</td></tr>\n",
       "\t<tr><th scope=row>CREnobody</th><td>0</td><td>0</td><td>1</td><td>0</td><td>0</td><td>0</td><td>0</td><td>1</td><td>0</td><td>0</td></tr>\n",
       "\t<tr><th scope=row>CREredgene</th><td>0</td><td>0</td><td>0</td><td>1</td><td>0</td><td>0</td><td>0</td><td>0</td><td>1</td><td>0</td></tr>\n",
       "\t<tr><th scope=row>CREsomebody</th><td>0</td><td>0</td><td>0</td><td>0</td><td>1</td><td>0</td><td>0</td><td>0</td><td>0</td><td>1</td></tr>\n",
       "\t<tr><th scope=row>Cell_typebrain</th><td>1</td><td>1</td><td>1</td><td>1</td><td>1</td><td>0</td><td>0</td><td>0</td><td>0</td><td>0</td></tr>\n",
       "\t<tr><th scope=row>CREneurogene:Cell_typebrain</th><td>0</td><td>1</td><td>0</td><td>0</td><td>0</td><td>0</td><td>0</td><td>0</td><td>0</td><td>0</td></tr>\n",
       "\t<tr><th scope=row>CREnobody:Cell_typebrain</th><td>0</td><td>0</td><td>1</td><td>0</td><td>0</td><td>0</td><td>0</td><td>0</td><td>0</td><td>0</td></tr>\n",
       "\t<tr><th scope=row>CREredgene:Cell_typebrain</th><td>0</td><td>0</td><td>0</td><td>1</td><td>0</td><td>0</td><td>0</td><td>0</td><td>0</td><td>0</td></tr>\n",
       "\t<tr><th scope=row>CREsomebody:Cell_typebrain</th><td>0</td><td>0</td><td>0</td><td>0</td><td>1</td><td>0</td><td>0</td><td>0</td><td>0</td><td>0</td></tr>\n",
       "</tbody>\n",
       "</table>\n"
      ],
      "text/latex": [
       "A matrix: 10 × 10 of type dbl\n",
       "\\begin{tabular}{r|llllllllll}\n",
       "  & everybody\\_brain & neurogene\\_brain & nobody\\_brain & redgene\\_brain & somebody\\_brain & everybody\\_blood & neurogene\\_blood & nobody\\_blood & redgene\\_blood & somebody\\_blood\\\\\n",
       "\\hline\n",
       "\tCREeverybody & 1 & 0 & 0 & 0 & 0 & 1 & 0 & 0 & 0 & 0\\\\\n",
       "\tCREneurogene & 0 & 1 & 0 & 0 & 0 & 0 & 1 & 0 & 0 & 0\\\\\n",
       "\tCREnobody & 0 & 0 & 1 & 0 & 0 & 0 & 0 & 1 & 0 & 0\\\\\n",
       "\tCREredgene & 0 & 0 & 0 & 1 & 0 & 0 & 0 & 0 & 1 & 0\\\\\n",
       "\tCREsomebody & 0 & 0 & 0 & 0 & 1 & 0 & 0 & 0 & 0 & 1\\\\\n",
       "\tCell\\_typebrain & 1 & 1 & 1 & 1 & 1 & 0 & 0 & 0 & 0 & 0\\\\\n",
       "\tCREneurogene:Cell\\_typebrain & 0 & 1 & 0 & 0 & 0 & 0 & 0 & 0 & 0 & 0\\\\\n",
       "\tCREnobody:Cell\\_typebrain & 0 & 0 & 1 & 0 & 0 & 0 & 0 & 0 & 0 & 0\\\\\n",
       "\tCREredgene:Cell\\_typebrain & 0 & 0 & 0 & 1 & 0 & 0 & 0 & 0 & 0 & 0\\\\\n",
       "\tCREsomebody:Cell\\_typebrain & 0 & 0 & 0 & 0 & 1 & 0 & 0 & 0 & 0 & 0\\\\\n",
       "\\end{tabular}\n"
      ],
      "text/markdown": [
       "\n",
       "A matrix: 10 × 10 of type dbl\n",
       "\n",
       "| <!--/--> | everybody_brain | neurogene_brain | nobody_brain | redgene_brain | somebody_brain | everybody_blood | neurogene_blood | nobody_blood | redgene_blood | somebody_blood |\n",
       "|---|---|---|---|---|---|---|---|---|---|---|\n",
       "| CREeverybody | 1 | 0 | 0 | 0 | 0 | 1 | 0 | 0 | 0 | 0 |\n",
       "| CREneurogene | 0 | 1 | 0 | 0 | 0 | 0 | 1 | 0 | 0 | 0 |\n",
       "| CREnobody | 0 | 0 | 1 | 0 | 0 | 0 | 0 | 1 | 0 | 0 |\n",
       "| CREredgene | 0 | 0 | 0 | 1 | 0 | 0 | 0 | 0 | 1 | 0 |\n",
       "| CREsomebody | 0 | 0 | 0 | 0 | 1 | 0 | 0 | 0 | 0 | 1 |\n",
       "| Cell_typebrain | 1 | 1 | 1 | 1 | 1 | 0 | 0 | 0 | 0 | 0 |\n",
       "| CREneurogene:Cell_typebrain | 0 | 1 | 0 | 0 | 0 | 0 | 0 | 0 | 0 | 0 |\n",
       "| CREnobody:Cell_typebrain | 0 | 0 | 1 | 0 | 0 | 0 | 0 | 0 | 0 | 0 |\n",
       "| CREredgene:Cell_typebrain | 0 | 0 | 0 | 1 | 0 | 0 | 0 | 0 | 0 | 0 |\n",
       "| CREsomebody:Cell_typebrain | 0 | 0 | 0 | 0 | 1 | 0 | 0 | 0 | 0 | 0 |\n",
       "\n"
      ],
      "text/plain": [
       "                            everybody_brain neurogene_brain nobody_brain\n",
       "CREeverybody                1               0               0           \n",
       "CREneurogene                0               1               0           \n",
       "CREnobody                   0               0               1           \n",
       "CREredgene                  0               0               0           \n",
       "CREsomebody                 0               0               0           \n",
       "Cell_typebrain              1               1               1           \n",
       "CREneurogene:Cell_typebrain 0               1               0           \n",
       "CREnobody:Cell_typebrain    0               0               1           \n",
       "CREredgene:Cell_typebrain   0               0               0           \n",
       "CREsomebody:Cell_typebrain  0               0               0           \n",
       "                            redgene_brain somebody_brain everybody_blood\n",
       "CREeverybody                0             0              1              \n",
       "CREneurogene                0             0              0              \n",
       "CREnobody                   0             0              0              \n",
       "CREredgene                  1             0              0              \n",
       "CREsomebody                 0             1              0              \n",
       "Cell_typebrain              1             1              0              \n",
       "CREneurogene:Cell_typebrain 0             0              0              \n",
       "CREnobody:Cell_typebrain    0             0              0              \n",
       "CREredgene:Cell_typebrain   1             0              0              \n",
       "CREsomebody:Cell_typebrain  0             1              0              \n",
       "                            neurogene_blood nobody_blood redgene_blood\n",
       "CREeverybody                0               0            0            \n",
       "CREneurogene                1               0            0            \n",
       "CREnobody                   0               1            0            \n",
       "CREredgene                  0               0            1            \n",
       "CREsomebody                 0               0            0            \n",
       "Cell_typebrain              0               0            0            \n",
       "CREneurogene:Cell_typebrain 0               0            0            \n",
       "CREnobody:Cell_typebrain    0               0            0            \n",
       "CREredgene:Cell_typebrain   0               0            0            \n",
       "CREsomebody:Cell_typebrain  0               0            0            \n",
       "                            somebody_blood\n",
       "CREeverybody                0             \n",
       "CREneurogene                0             \n",
       "CREnobody                   0             \n",
       "CREredgene                  0             \n",
       "CREsomebody                 1             \n",
       "Cell_typebrain              0             \n",
       "CREneurogene:Cell_typebrain 0             \n",
       "CREnobody:Cell_typebrain    0             \n",
       "CREredgene:Cell_typebrain   0             \n",
       "CREsomebody:Cell_typebrain  0             "
      ]
     },
     "metadata": {},
     "output_type": "display_data"
    }
   ],
   "source": [
    "mean_design=matrix(c(1,0,0,0,0,1,0,0,0,0,0,1,0,0,0,1,1,0,0,0,0,0,1,0,0,1,0,1,0,0,0,0,0,1,0,1,0,0,1,0,0,0,0,0,1,1,0,0,0,1,1,0,0,0,0,0,0,0,0,0,0,1,0,0,0,0,0,0,0,0,0,0,1,0,0,0,0,0,0,0,0,0,0,1,0,0,0,0,0,0,0,0,0,0,1,0,0,0,0,0),nrow=10,ncol=10)\n",
    "colnames(mean_design)<-c(\"everybody_brain\",\"neurogene_brain\",\"nobody_brain\",\"redgene_brain\",\"somebody_brain\",\"everybody_blood\",\"neurogene_blood\",\"nobody_blood\",\"redgene_blood\",\"somebody_blood\")\n",
    "rownames(mean_design)<-names(zinb[[\"coefficients\"]][[\"count\"]])\n",
    "mean_design"
   ]
  },
  {
   "cell_type": "code",
   "execution_count": 53,
   "metadata": {
    "vscode": {
     "languageId": "r"
    }
   },
   "outputs": [
    {
     "data": {
      "text/html": [
       "<table class=\"dataframe\">\n",
       "<caption>A matrix: 10 × 10 of type dbl</caption>\n",
       "<thead>\n",
       "\t<tr><th></th><th scope=col>everybody_brain</th><th scope=col>neurogene_brain</th><th scope=col>nobody_brain</th><th scope=col>redgene_brain</th><th scope=col>somebody_brain</th><th scope=col>everybody_blood</th><th scope=col>neurogene_blood</th><th scope=col>nobody_blood</th><th scope=col>redgene_blood</th><th scope=col>somebody_blood</th></tr>\n",
       "</thead>\n",
       "<tbody>\n",
       "\t<tr><th scope=row>CREeverybody</th><td>4.63990137</td><td>0.00000000</td><td> 0.00000000</td><td> 0.00000000</td><td> 0.00000000</td><td>4.639901</td><td>0.000000</td><td>0.000000</td><td>0.00000</td><td>0.000000</td></tr>\n",
       "\t<tr><th scope=row>CREneurogene</th><td>0.00000000</td><td>2.74070479</td><td> 0.00000000</td><td> 0.00000000</td><td> 0.00000000</td><td>0.000000</td><td>2.740705</td><td>0.000000</td><td>0.00000</td><td>0.000000</td></tr>\n",
       "\t<tr><th scope=row>CREnobody</th><td>0.00000000</td><td>0.00000000</td><td> 0.66602398</td><td> 0.00000000</td><td> 0.00000000</td><td>0.000000</td><td>0.000000</td><td>0.666024</td><td>0.00000</td><td>0.000000</td></tr>\n",
       "\t<tr><th scope=row>CREredgene</th><td>0.00000000</td><td>0.00000000</td><td> 0.00000000</td><td> 4.65945006</td><td> 0.00000000</td><td>0.000000</td><td>0.000000</td><td>0.000000</td><td>4.65945</td><td>0.000000</td></tr>\n",
       "\t<tr><th scope=row>CREsomebody</th><td>0.00000000</td><td>0.00000000</td><td> 0.00000000</td><td> 0.00000000</td><td> 2.52532093</td><td>0.000000</td><td>0.000000</td><td>0.000000</td><td>0.00000</td><td>2.525321</td></tr>\n",
       "\t<tr><th scope=row>Cell_typebrain</th><td>0.03974839</td><td>0.03974839</td><td> 0.03974839</td><td> 0.03974839</td><td> 0.03974839</td><td>0.000000</td><td>0.000000</td><td>0.000000</td><td>0.00000</td><td>0.000000</td></tr>\n",
       "\t<tr><th scope=row>CREneurogene:Cell_typebrain</th><td>0.00000000</td><td>1.78701484</td><td> 0.00000000</td><td> 0.00000000</td><td> 0.00000000</td><td>0.000000</td><td>0.000000</td><td>0.000000</td><td>0.00000</td><td>0.000000</td></tr>\n",
       "\t<tr><th scope=row>CREnobody:Cell_typebrain</th><td>0.00000000</td><td>0.00000000</td><td>-0.67921565</td><td> 0.00000000</td><td> 0.00000000</td><td>0.000000</td><td>0.000000</td><td>0.000000</td><td>0.00000</td><td>0.000000</td></tr>\n",
       "\t<tr><th scope=row>CREredgene:Cell_typebrain</th><td>0.00000000</td><td>0.00000000</td><td> 0.00000000</td><td>-1.27374496</td><td> 0.00000000</td><td>0.000000</td><td>0.000000</td><td>0.000000</td><td>0.00000</td><td>0.000000</td></tr>\n",
       "\t<tr><th scope=row>CREsomebody:Cell_typebrain</th><td>0.00000000</td><td>0.00000000</td><td> 0.00000000</td><td> 0.00000000</td><td>-0.26346564</td><td>0.000000</td><td>0.000000</td><td>0.000000</td><td>0.00000</td><td>0.000000</td></tr>\n",
       "</tbody>\n",
       "</table>\n"
      ],
      "text/latex": [
       "A matrix: 10 × 10 of type dbl\n",
       "\\begin{tabular}{r|llllllllll}\n",
       "  & everybody\\_brain & neurogene\\_brain & nobody\\_brain & redgene\\_brain & somebody\\_brain & everybody\\_blood & neurogene\\_blood & nobody\\_blood & redgene\\_blood & somebody\\_blood\\\\\n",
       "\\hline\n",
       "\tCREeverybody & 4.63990137 & 0.00000000 &  0.00000000 &  0.00000000 &  0.00000000 & 4.639901 & 0.000000 & 0.000000 & 0.00000 & 0.000000\\\\\n",
       "\tCREneurogene & 0.00000000 & 2.74070479 &  0.00000000 &  0.00000000 &  0.00000000 & 0.000000 & 2.740705 & 0.000000 & 0.00000 & 0.000000\\\\\n",
       "\tCREnobody & 0.00000000 & 0.00000000 &  0.66602398 &  0.00000000 &  0.00000000 & 0.000000 & 0.000000 & 0.666024 & 0.00000 & 0.000000\\\\\n",
       "\tCREredgene & 0.00000000 & 0.00000000 &  0.00000000 &  4.65945006 &  0.00000000 & 0.000000 & 0.000000 & 0.000000 & 4.65945 & 0.000000\\\\\n",
       "\tCREsomebody & 0.00000000 & 0.00000000 &  0.00000000 &  0.00000000 &  2.52532093 & 0.000000 & 0.000000 & 0.000000 & 0.00000 & 2.525321\\\\\n",
       "\tCell\\_typebrain & 0.03974839 & 0.03974839 &  0.03974839 &  0.03974839 &  0.03974839 & 0.000000 & 0.000000 & 0.000000 & 0.00000 & 0.000000\\\\\n",
       "\tCREneurogene:Cell\\_typebrain & 0.00000000 & 1.78701484 &  0.00000000 &  0.00000000 &  0.00000000 & 0.000000 & 0.000000 & 0.000000 & 0.00000 & 0.000000\\\\\n",
       "\tCREnobody:Cell\\_typebrain & 0.00000000 & 0.00000000 & -0.67921565 &  0.00000000 &  0.00000000 & 0.000000 & 0.000000 & 0.000000 & 0.00000 & 0.000000\\\\\n",
       "\tCREredgene:Cell\\_typebrain & 0.00000000 & 0.00000000 &  0.00000000 & -1.27374496 &  0.00000000 & 0.000000 & 0.000000 & 0.000000 & 0.00000 & 0.000000\\\\\n",
       "\tCREsomebody:Cell\\_typebrain & 0.00000000 & 0.00000000 &  0.00000000 &  0.00000000 & -0.26346564 & 0.000000 & 0.000000 & 0.000000 & 0.00000 & 0.000000\\\\\n",
       "\\end{tabular}\n"
      ],
      "text/markdown": [
       "\n",
       "A matrix: 10 × 10 of type dbl\n",
       "\n",
       "| <!--/--> | everybody_brain | neurogene_brain | nobody_brain | redgene_brain | somebody_brain | everybody_blood | neurogene_blood | nobody_blood | redgene_blood | somebody_blood |\n",
       "|---|---|---|---|---|---|---|---|---|---|---|\n",
       "| CREeverybody | 4.63990137 | 0.00000000 |  0.00000000 |  0.00000000 |  0.00000000 | 4.639901 | 0.000000 | 0.000000 | 0.00000 | 0.000000 |\n",
       "| CREneurogene | 0.00000000 | 2.74070479 |  0.00000000 |  0.00000000 |  0.00000000 | 0.000000 | 2.740705 | 0.000000 | 0.00000 | 0.000000 |\n",
       "| CREnobody | 0.00000000 | 0.00000000 |  0.66602398 |  0.00000000 |  0.00000000 | 0.000000 | 0.000000 | 0.666024 | 0.00000 | 0.000000 |\n",
       "| CREredgene | 0.00000000 | 0.00000000 |  0.00000000 |  4.65945006 |  0.00000000 | 0.000000 | 0.000000 | 0.000000 | 4.65945 | 0.000000 |\n",
       "| CREsomebody | 0.00000000 | 0.00000000 |  0.00000000 |  0.00000000 |  2.52532093 | 0.000000 | 0.000000 | 0.000000 | 0.00000 | 2.525321 |\n",
       "| Cell_typebrain | 0.03974839 | 0.03974839 |  0.03974839 |  0.03974839 |  0.03974839 | 0.000000 | 0.000000 | 0.000000 | 0.00000 | 0.000000 |\n",
       "| CREneurogene:Cell_typebrain | 0.00000000 | 1.78701484 |  0.00000000 |  0.00000000 |  0.00000000 | 0.000000 | 0.000000 | 0.000000 | 0.00000 | 0.000000 |\n",
       "| CREnobody:Cell_typebrain | 0.00000000 | 0.00000000 | -0.67921565 |  0.00000000 |  0.00000000 | 0.000000 | 0.000000 | 0.000000 | 0.00000 | 0.000000 |\n",
       "| CREredgene:Cell_typebrain | 0.00000000 | 0.00000000 |  0.00000000 | -1.27374496 |  0.00000000 | 0.000000 | 0.000000 | 0.000000 | 0.00000 | 0.000000 |\n",
       "| CREsomebody:Cell_typebrain | 0.00000000 | 0.00000000 |  0.00000000 |  0.00000000 | -0.26346564 | 0.000000 | 0.000000 | 0.000000 | 0.00000 | 0.000000 |\n",
       "\n"
      ],
      "text/plain": [
       "                            everybody_brain neurogene_brain nobody_brain\n",
       "CREeverybody                4.63990137      0.00000000       0.00000000 \n",
       "CREneurogene                0.00000000      2.74070479       0.00000000 \n",
       "CREnobody                   0.00000000      0.00000000       0.66602398 \n",
       "CREredgene                  0.00000000      0.00000000       0.00000000 \n",
       "CREsomebody                 0.00000000      0.00000000       0.00000000 \n",
       "Cell_typebrain              0.03974839      0.03974839       0.03974839 \n",
       "CREneurogene:Cell_typebrain 0.00000000      1.78701484       0.00000000 \n",
       "CREnobody:Cell_typebrain    0.00000000      0.00000000      -0.67921565 \n",
       "CREredgene:Cell_typebrain   0.00000000      0.00000000       0.00000000 \n",
       "CREsomebody:Cell_typebrain  0.00000000      0.00000000       0.00000000 \n",
       "                            redgene_brain somebody_brain everybody_blood\n",
       "CREeverybody                 0.00000000    0.00000000    4.639901       \n",
       "CREneurogene                 0.00000000    0.00000000    0.000000       \n",
       "CREnobody                    0.00000000    0.00000000    0.000000       \n",
       "CREredgene                   4.65945006    0.00000000    0.000000       \n",
       "CREsomebody                  0.00000000    2.52532093    0.000000       \n",
       "Cell_typebrain               0.03974839    0.03974839    0.000000       \n",
       "CREneurogene:Cell_typebrain  0.00000000    0.00000000    0.000000       \n",
       "CREnobody:Cell_typebrain     0.00000000    0.00000000    0.000000       \n",
       "CREredgene:Cell_typebrain   -1.27374496    0.00000000    0.000000       \n",
       "CREsomebody:Cell_typebrain   0.00000000   -0.26346564    0.000000       \n",
       "                            neurogene_blood nobody_blood redgene_blood\n",
       "CREeverybody                0.000000        0.000000     0.00000      \n",
       "CREneurogene                2.740705        0.000000     0.00000      \n",
       "CREnobody                   0.000000        0.666024     0.00000      \n",
       "CREredgene                  0.000000        0.000000     4.65945      \n",
       "CREsomebody                 0.000000        0.000000     0.00000      \n",
       "Cell_typebrain              0.000000        0.000000     0.00000      \n",
       "CREneurogene:Cell_typebrain 0.000000        0.000000     0.00000      \n",
       "CREnobody:Cell_typebrain    0.000000        0.000000     0.00000      \n",
       "CREredgene:Cell_typebrain   0.000000        0.000000     0.00000      \n",
       "CREsomebody:Cell_typebrain  0.000000        0.000000     0.00000      \n",
       "                            somebody_blood\n",
       "CREeverybody                0.000000      \n",
       "CREneurogene                0.000000      \n",
       "CREnobody                   0.000000      \n",
       "CREredgene                  0.000000      \n",
       "CREsomebody                 2.525321      \n",
       "Cell_typebrain              0.000000      \n",
       "CREneurogene:Cell_typebrain 0.000000      \n",
       "CREnobody:Cell_typebrain    0.000000      \n",
       "CREredgene:Cell_typebrain   0.000000      \n",
       "CREsomebody:Cell_typebrain  0.000000      "
      ]
     },
     "metadata": {},
     "output_type": "display_data"
    }
   ],
   "source": [
    "mean_weights=mean_design*zinb[[\"coefficients\"]][[\"count\"]]\n",
    "mean_weights"
   ]
  },
  {
   "cell_type": "code",
   "execution_count": 54,
   "metadata": {
    "vscode": {
     "languageId": "r"
    }
   },
   "outputs": [
    {
     "data": {
      "text/html": [
       "<style>\n",
       ".dl-inline {width: auto; margin:0; padding: 0}\n",
       ".dl-inline>dt, .dl-inline>dd {float: none; width: auto; display: inline-block}\n",
       ".dl-inline>dt::after {content: \":\\0020\"; padding-right: .5ex}\n",
       ".dl-inline>dt:not(:first-of-type) {padding-left: .5ex}\n",
       "</style><dl class=dl-inline><dt>everybody_brain</dt><dd>107.732333659496</dd><dt>neurogene_brain</dt><dd>96.2999709477038</dd><dt>nobody_brain</dt><dd>1.02691248610768</dd><dt>redgene_brain</dt><dd>30.7365801117435</dd><dt>somebody_brain</dt><dd>9.99019064669842</dd><dt>everybody_blood</dt><dd>103.534135876343</dd><dt>neurogene_blood</dt><dd>15.4979040892423</dd><dt>nobody_blood</dt><dd>1.94648266316822</dd><dt>redgene_blood</dt><dd>105.578004557986</dd><dt>somebody_blood</dt><dd>12.4949046059793</dd></dl>\n"
      ],
      "text/latex": [
       "\\begin{description*}\n",
       "\\item[everybody\\textbackslash{}\\_brain] 107.732333659496\n",
       "\\item[neurogene\\textbackslash{}\\_brain] 96.2999709477038\n",
       "\\item[nobody\\textbackslash{}\\_brain] 1.02691248610768\n",
       "\\item[redgene\\textbackslash{}\\_brain] 30.7365801117435\n",
       "\\item[somebody\\textbackslash{}\\_brain] 9.99019064669842\n",
       "\\item[everybody\\textbackslash{}\\_blood] 103.534135876343\n",
       "\\item[neurogene\\textbackslash{}\\_blood] 15.4979040892423\n",
       "\\item[nobody\\textbackslash{}\\_blood] 1.94648266316822\n",
       "\\item[redgene\\textbackslash{}\\_blood] 105.578004557986\n",
       "\\item[somebody\\textbackslash{}\\_blood] 12.4949046059793\n",
       "\\end{description*}\n"
      ],
      "text/markdown": [
       "everybody_brain\n",
       ":   107.732333659496neurogene_brain\n",
       ":   96.2999709477038nobody_brain\n",
       ":   1.02691248610768redgene_brain\n",
       ":   30.7365801117435somebody_brain\n",
       ":   9.99019064669842everybody_blood\n",
       ":   103.534135876343neurogene_blood\n",
       ":   15.4979040892423nobody_blood\n",
       ":   1.94648266316822redgene_blood\n",
       ":   105.578004557986somebody_blood\n",
       ":   12.4949046059793\n",
       "\n"
      ],
      "text/plain": [
       "everybody_brain neurogene_brain    nobody_brain   redgene_brain  somebody_brain \n",
       "     107.732334       96.299971        1.026912       30.736580        9.990191 \n",
       "everybody_blood neurogene_blood    nobody_blood   redgene_blood  somebody_blood \n",
       "     103.534136       15.497904        1.946483      105.578005       12.494905 "
      ]
     },
     "metadata": {},
     "output_type": "display_data"
    }
   ],
   "source": [
    "log_mu=colSums(mean_weights)\n",
    "mu=exp(log_mu)\n",
    "mu"
   ]
  },
  {
   "cell_type": "markdown",
   "metadata": {},
   "source": [
    "Pretty good!"
   ]
  },
  {
   "cell_type": "code",
   "execution_count": 56,
   "metadata": {
    "vscode": {
     "languageId": "r"
    }
   },
   "outputs": [
    {
     "data": {
      "image/png": "[encoded data removed]",
      "text/plain": [
       "Plot with title “Extracted mean parameters”"
      ]
     },
     "metadata": {
      "image/png": {
       "height": 420,
       "width": 420
      }
     },
     "output_type": "display_data"
    }
   ],
   "source": [
    "par(mar = c(8, 4, 4, 2))\n",
    "barplot(mu, main = \"Extracted mean parameters\", col = \"skyblue\", ylab = \"Values\", xlab = \"Names\",las=2)\n"
   ]
  },
  {
   "cell_type": "markdown",
   "metadata": {},
   "source": [
    "# Reconstructing $\\sigma^2$ values"
   ]
  },
  {
   "cell_type": "code",
   "execution_count": 59,
   "metadata": {
    "vscode": {
     "languageId": "r"
    }
   },
   "outputs": [
    {
     "data": {
      "text/html": [
       "<style>\n",
       ".dl-inline {width: auto; margin:0; padding: 0}\n",
       ".dl-inline>dt, .dl-inline>dd {float: none; width: auto; display: inline-block}\n",
       ".dl-inline>dt::after {content: \":\\0020\"; padding-right: .5ex}\n",
       ".dl-inline>dt:not(:first-of-type) {padding-left: .5ex}\n",
       "</style><dl class=dl-inline><dt>everybody_brain</dt><dd>3436.17459121132</dd><dt>neurogene_brain</dt><dd>2755.80737895889</dd><dt>nobody_brain</dt><dd>1.3293361433205</dd><dt>redgene_brain</dt><dd>301.66837915464</dd><dt>somebody_brain</dt><dd>38.6119578078617</dd><dt>everybody_blood</dt><dd>3177.62017357603</dd><dt>neurogene_blood</dt><dd>84.3781723620951</dd><dt>nobody_blood</dt><dd>3.03303330332725</dd><dt>redgene_blood</dt><dd>3302.23317933798</dd><dt>somebody_blood</dt><dd>57.2677588983107</dd></dl>\n"
      ],
      "text/latex": [
       "\\begin{description*}\n",
       "\\item[everybody\\textbackslash{}\\_brain] 3436.17459121132\n",
       "\\item[neurogene\\textbackslash{}\\_brain] 2755.80737895889\n",
       "\\item[nobody\\textbackslash{}\\_brain] 1.3293361433205\n",
       "\\item[redgene\\textbackslash{}\\_brain] 301.66837915464\n",
       "\\item[somebody\\textbackslash{}\\_brain] 38.6119578078617\n",
       "\\item[everybody\\textbackslash{}\\_blood] 3177.62017357603\n",
       "\\item[neurogene\\textbackslash{}\\_blood] 84.3781723620951\n",
       "\\item[nobody\\textbackslash{}\\_blood] 3.03303330332725\n",
       "\\item[redgene\\textbackslash{}\\_blood] 3302.23317933798\n",
       "\\item[somebody\\textbackslash{}\\_blood] 57.2677588983107\n",
       "\\end{description*}\n"
      ],
      "text/markdown": [
       "everybody_brain\n",
       ":   3436.17459121132neurogene_brain\n",
       ":   2755.80737895889nobody_brain\n",
       ":   1.3293361433205redgene_brain\n",
       ":   301.66837915464somebody_brain\n",
       ":   38.6119578078617everybody_blood\n",
       ":   3177.62017357603neurogene_blood\n",
       ":   84.3781723620951nobody_blood\n",
       ":   3.03303330332725redgene_blood\n",
       ":   3302.23317933798somebody_blood\n",
       ":   57.2677588983107\n",
       "\n"
      ],
      "text/plain": [
       "everybody_brain neurogene_brain    nobody_brain   redgene_brain  somebody_brain \n",
       "    3436.174591     2755.807379        1.329336      301.668379       38.611958 \n",
       "everybody_blood neurogene_blood    nobody_blood   redgene_blood  somebody_blood \n",
       "    3177.620174       84.378172        3.033033     3302.233179       57.267759 "
      ]
     },
     "metadata": {},
     "output_type": "display_data"
    }
   ],
   "source": [
    "mu+mu**2/zinb[[\"theta\"]]"
   ]
  },
  {
   "cell_type": "markdown",
   "metadata": {},
   "source": [
    "Also pretty good!"
   ]
  },
  {
   "cell_type": "markdown",
   "metadata": {},
   "source": [
    "# Examining alternate total models"
   ]
  },
  {
   "cell_type": "markdown",
   "metadata": {},
   "source": [
    "Let's take a look at what happens if we perform the same regression, but augment it by regressing mean parameter on replicate ID..."
   ]
  },
  {
   "cell_type": "code",
   "execution_count": 21,
   "metadata": {
    "vscode": {
     "languageId": "r"
    }
   },
   "outputs": [],
   "source": [
    "zinb_aug <- zeroinfl(umi_count ~ CRE*Cell_type + replicate_ID +0|replicate_ID,\n",
    "    dist='negbin',\n",
    "    data=fake_cres)"
   ]
  },
  {
   "cell_type": "code",
   "execution_count": 22,
   "metadata": {
    "vscode": {
     "languageId": "r"
    }
   },
   "outputs": [
    {
     "data": {
      "text/plain": [
       "\n",
       "Call:\n",
       "zeroinfl(formula = umi_count ~ CRE * Cell_type + replicate_ID + 0 | replicate_ID, \n",
       "    data = fake_cres, dist = \"negbin\")\n",
       "\n",
       "Count model coefficients (negbin with log link):\n",
       "               CREeverybody                 CREneurogene  \n",
       "                   4.629857                     2.730615  \n",
       "                  CREnobody                   CREredgene  \n",
       "                   0.656210                     4.648954  \n",
       "                CREsomebody               Cell_typebrain  \n",
       "                   2.514607                     0.039979  \n",
       "              replicate_ID2                replicate_ID3  \n",
       "                   0.007276                     0.047780  \n",
       "CREneurogene:Cell_typebrain     CREnobody:Cell_typebrain  \n",
       "                   1.786477                    -0.681405  \n",
       "  CREredgene:Cell_typebrain   CREsomebody:Cell_typebrain  \n",
       "                  -1.273701                    -0.263477  \n",
       "Theta = 3.4891 \n",
       "\n",
       "Zero-inflation model coefficients (binomial with logit link):\n",
       "  (Intercept)  replicate_ID2  replicate_ID3  \n",
       "       1.3544        -1.3266         0.8925  \n"
      ]
     },
     "metadata": {},
     "output_type": "display_data"
    }
   ],
   "source": [
    "zinb_aug"
   ]
  },
  {
   "cell_type": "markdown",
   "metadata": {},
   "source": [
    "Unsurprisingly, we find that the coefficients on replicate IDs are very small, indicating they have a small effect on the mean parameter of the distro... If we were to find large parameters here we'd want to regress them out! As it stands, I think we can neglect them and proceed with the original model."
   ]
  }
 ],
 "metadata": {
  "kernelspec": {
   "display_name": "R",
   "language": "R",
   "name": "ir"
  },
  "language_info": {
   "codemirror_mode": "r",
   "file_extension": ".r",
   "mimetype": "text/x-r-source",
   "name": "R",
   "pygments_lexer": "r",
   "version": "4.3.3"
  },
  "orig_nbformat": 4
 },
 "nbformat": 4,
 "nbformat_minor": 2
}
