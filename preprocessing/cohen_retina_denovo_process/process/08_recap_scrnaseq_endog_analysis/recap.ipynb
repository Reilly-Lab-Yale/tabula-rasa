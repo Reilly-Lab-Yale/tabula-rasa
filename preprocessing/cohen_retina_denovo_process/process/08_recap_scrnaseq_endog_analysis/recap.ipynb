{
 "cells": [
  {
   "cell_type": "markdown",
   "metadata": {},
   "source": [
    "This notebook recapitulates the scrnaseq analysis performed by cohen, using their notebook code where possible, with the aim of producing a list of cell-type calls and filtered lists."
   ]
  },
  {
   "cell_type": "markdown",
   "metadata": {},
   "source": [
    "First, we need to get their data."
   ]
  },
  {
   "cell_type": "code",
   "execution_count": 1,
   "metadata": {},
   "outputs": [],
   "source": [
    "import urllib.request\n",
    "import subprocess\n",
    "data_root=\"/home/mcn26/palmer_scratch/tabula_data\""
   ]
  },
  {
   "cell_type": "code",
   "execution_count": 9,
   "metadata": {},
   "outputs": [
    {
     "data": {
      "text/plain": [
       "('/home/mcn26/palmer_scratch/tabula_data/dl',\n",
       " <http.client.HTTPMessage at 0x151125a61be0>)"
      ]
     },
     "execution_count": 9,
     "metadata": {},
     "output_type": "execute_result"
    }
   ],
   "source": [
    "urllib.request.urlretrieve(\"https://zenodo.org/records/14907846/files/scMPRA.zip?download=1\",f\"{data_root}/dl\")"
   ]
  },
  {
   "cell_type": "code",
   "execution_count": 13,
   "metadata": {},
   "outputs": [
    {
     "name": "stdout",
     "output_type": "stream",
     "text": [
      "/home/mcn26/palmer_scratch/tabula_data/dl: Zip archive data, at least v2.0 to extract\n"
     ]
    },
    {
     "data": {
      "text/plain": [
       "CompletedProcess(args=['file', '/home/mcn26/palmer_scratch/tabula_data/dl'], returncode=0)"
      ]
     },
     "execution_count": 13,
     "metadata": {},
     "output_type": "execute_result"
    }
   ],
   "source": [
    "subprocess.run([\"file\",f\"{data_root}/dl\"])"
   ]
  },
  {
   "cell_type": "code",
   "execution_count": 16,
   "metadata": {},
   "outputs": [
    {
     "name": "stdout",
     "output_type": "stream",
     "text": [
      "Archive:  /home/mcn26/palmer_scratch/tabula_data/dl\n",
      "   creating: /home/mcn26/palmer_scratch/tabula_data/scMPRA/\n",
      "  inflating: /home/mcn26/palmer_scratch/tabula_data/__MACOSX/._scMPRA  \n",
      " extracting: /home/mcn26/palmer_scratch/tabula_data/scMPRA/.Rhistory  \n",
      "  inflating: /home/mcn26/palmer_scratch/tabula_data/scMPRA/mascot.yml  \n",
      "  inflating: /home/mcn26/palmer_scratch/tabula_data/scMPRA/.DS_Store  \n",
      "  inflating: /home/mcn26/palmer_scratch/tabula_data/__MACOSX/scMPRA/._.DS_Store  \n",
      "  inflating: /home/mcn26/palmer_scratch/tabula_data/scMPRA/readme.md  \n",
      "  inflating: /home/mcn26/palmer_scratch/tabula_data/__MACOSX/scMPRA/._readme.md  \n",
      "  inflating: /home/mcn26/palmer_scratch/tabula_data/scMPRA/.RData  \n",
      "   creating: /home/mcn26/palmer_scratch/tabula_data/scMPRA/scripts/\n",
      "   creating: /home/mcn26/palmer_scratch/tabula_data/scMPRA/data/\n",
      "   creating: /home/mcn26/palmer_scratch/tabula_data/scMPRA/notebooks/\n",
      "  inflating: /home/mcn26/palmer_scratch/tabula_data/scMPRA/scripts/sc_crs_exp.py  \n",
      "  inflating: /home/mcn26/palmer_scratch/tabula_data/scMPRA/scripts/cell_bcs_filtering.sh  \n",
      "  inflating: /home/mcn26/palmer_scratch/tabula_data/scMPRA/scripts/scMPRA_parsing  \n",
      "  inflating: /home/mcn26/palmer_scratch/tabula_data/scMPRA/scripts/sc_crs_exp.sh  \n",
      "  inflating: /home/mcn26/palmer_scratch/tabula_data/scMPRA/scripts/run_cell_ranger.sh  \n",
      "  inflating: /home/mcn26/palmer_scratch/tabula_data/scMPRA/scripts/cell_bcs_filtering.py  \n",
      "  inflating: /home/mcn26/palmer_scratch/tabula_data/scMPRA/data/.DS_Store  \n",
      "  inflating: /home/mcn26/palmer_scratch/tabula_data/__MACOSX/scMPRA/data/._.DS_Store  \n",
      "   creating: /home/mcn26/palmer_scratch/tabula_data/scMPRA/data/sc_cellBC_association/\n",
      "   creating: /home/mcn26/palmer_scratch/tabula_data/scMPRA/data/sc_expression_retina/\n",
      "   creating: /home/mcn26/palmer_scratch/tabula_data/scMPRA/data/sc_transcriptome_data/\n",
      "   creating: /home/mcn26/palmer_scratch/tabula_data/scMPRA/data/sc_expression_data/\n",
      "   creating: /home/mcn26/palmer_scratch/tabula_data/scMPRA/data/ref_data/\n",
      "   creating: /home/mcn26/palmer_scratch/tabula_data/scMPRA/data/bulk_expression/\n",
      "  inflating: /home/mcn26/palmer_scratch/tabula_data/scMPRA/notebooks/Part2_section2_cell_line_copy_number.ipynb  \n",
      "  inflating: /home/mcn26/palmer_scratch/tabula_data/__MACOSX/scMPRA/notebooks/._Part2_section2_cell_line_copy_number.ipynb  \n",
      "  inflating: /home/mcn26/palmer_scratch/tabula_data/scMPRA/notebooks/Part2_section4_k562_cell_state.ipynb  \n",
      "  inflating: /home/mcn26/palmer_scratch/tabula_data/__MACOSX/scMPRA/notebooks/._Part2_section4_k562_cell_state.ipynb  \n",
      "  inflating: /home/mcn26/palmer_scratch/tabula_data/scMPRA/notebooks/Part2_section5_k562_cell_cycle.ipynb  \n",
      "  inflating: /home/mcn26/palmer_scratch/tabula_data/__MACOSX/scMPRA/notebooks/._Part2_section5_k562_cell_cycle.ipynb  \n",
      "  inflating: /home/mcn26/palmer_scratch/tabula_data/scMPRA/notebooks/Part1_section3_analyze_scTranscriptome_for_retina.ipynb  \n",
      "  inflating: /home/mcn26/palmer_scratch/tabula_data/__MACOSX/scMPRA/notebooks/._Part1_section3_analyze_scTranscriptome_for_retina.ipynb  \n",
      "  inflating: /home/mcn26/palmer_scratch/tabula_data/scMPRA/notebooks/Part1_section1_analyze_scTranscriptome_for_mixed_cells.ipynb  \n",
      "  inflating: /home/mcn26/palmer_scratch/tabula_data/__MACOSX/scMPRA/notebooks/._Part1_section1_analyze_scTranscriptome_for_mixed_cells.ipynb  \n",
      "  inflating: /home/mcn26/palmer_scratch/tabula_data/scMPRA/notebooks/Part1_section2_analyze_scTranscriptome_for_k562_cells.ipynb  \n",
      "  inflating: /home/mcn26/palmer_scratch/tabula_data/__MACOSX/scMPRA/notebooks/._Part1_section2_analyze_scTranscriptome_for_k562_cells.ipynb  \n",
      "  inflating: /home/mcn26/palmer_scratch/tabula_data/scMPRA/notebooks/Part2_section6_retina_analysis.ipynb  \n",
      "  inflating: /home/mcn26/palmer_scratch/tabula_data/__MACOSX/scMPRA/notebooks/._Part2_section6_retina_analysis.ipynb  \n",
      "   creating: /home/mcn26/palmer_scratch/tabula_data/scMPRA/notebooks/.ipynb_checkpoints/\n",
      "  inflating: /home/mcn26/palmer_scratch/tabula_data/scMPRA/notebooks/Part2_section3_mixed_cell_difference.ipynb  \n",
      "  inflating: /home/mcn26/palmer_scratch/tabula_data/__MACOSX/scMPRA/notebooks/._Part2_section3_mixed_cell_difference.ipynb  \n",
      "  inflating: /home/mcn26/palmer_scratch/tabula_data/scMPRA/notebooks/Part2_section1_cell_line_reproducibility.ipynb  \n",
      "  inflating: /home/mcn26/palmer_scratch/tabula_data/__MACOSX/scMPRA/notebooks/._Part2_section1_cell_line_reproducibility.ipynb  \n",
      "  inflating: /home/mcn26/palmer_scratch/tabula_data/scMPRA/data/sc_cellBC_association/k562_cell_cycle_phase.csv  \n",
      "  inflating: /home/mcn26/palmer_scratch/tabula_data/__MACOSX/scMPRA/data/sc_cellBC_association/._k562_cell_cycle_phase.csv  \n",
      "  inflating: /home/mcn26/palmer_scratch/tabula_data/scMPRA/data/sc_cellBC_association/k562_cell_state_clustering.csv  \n",
      "  inflating: /home/mcn26/palmer_scratch/tabula_data/__MACOSX/scMPRA/data/sc_cellBC_association/._k562_cell_state_clustering.csv  \n",
      "  inflating: /home/mcn26/palmer_scratch/tabula_data/scMPRA/data/sc_cellBC_association/mixed_cell_identity.csv  \n",
      "  inflating: /home/mcn26/palmer_scratch/tabula_data/scMPRA/data/sc_expression_retina/retina_pBC_exp_rep2.csv  \n",
      "  inflating: /home/mcn26/palmer_scratch/tabula_data/__MACOSX/scMPRA/data/sc_expression_retina/._retina_pBC_exp_rep2.csv  \n",
      "  inflating: /home/mcn26/palmer_scratch/tabula_data/scMPRA/data/sc_expression_retina/retina_pBC_ec_rBC_ec_rep1.csv  \n",
      "  inflating: /home/mcn26/palmer_scratch/tabula_data/__MACOSX/scMPRA/data/sc_expression_retina/._retina_pBC_ec_rBC_ec_rep1.csv  \n",
      "  inflating: /home/mcn26/palmer_scratch/tabula_data/scMPRA/data/sc_expression_retina/retina_pBC_exp_rep1.csv  \n",
      "  inflating: /home/mcn26/palmer_scratch/tabula_data/__MACOSX/scMPRA/data/sc_expression_retina/._retina_pBC_exp_rep1.csv  \n",
      "  inflating: /home/mcn26/palmer_scratch/tabula_data/scMPRA/data/sc_expression_retina/retina_pBC_ec_rBC_ec_rep2.csv  \n",
      "  inflating: /home/mcn26/palmer_scratch/tabula_data/__MACOSX/scMPRA/data/sc_expression_retina/._retina_pBC_ec_rBC_ec_rep2.csv  \n",
      "  inflating: /home/mcn26/palmer_scratch/tabula_data/scMPRA/data/sc_expression_retina/retina_u6_pBC_umi_rep2.csv  \n",
      "  inflating: /home/mcn26/palmer_scratch/tabula_data/__MACOSX/scMPRA/data/sc_expression_retina/._retina_u6_pBC_umi_rep2.csv  \n",
      "  inflating: /home/mcn26/palmer_scratch/tabula_data/scMPRA/data/sc_expression_retina/retina_u6_pBC_umi_rep1.csv  \n",
      "  inflating: /home/mcn26/palmer_scratch/tabula_data/__MACOSX/scMPRA/data/sc_expression_retina/._retina_u6_pBC_umi_rep1.csv  \n",
      "  inflating: /home/mcn26/palmer_scratch/tabula_data/scMPRA/data/sc_transcriptome_data/.DS_Store  \n",
      "  inflating: /home/mcn26/palmer_scratch/tabula_data/__MACOSX/scMPRA/data/sc_transcriptome_data/._.DS_Store  \n",
      "   creating: /home/mcn26/palmer_scratch/tabula_data/scMPRA/data/sc_transcriptome_data/k562_filtered_feature_bc_matrix_r1/\n",
      "   creating: /home/mcn26/palmer_scratch/tabula_data/scMPRA/data/sc_transcriptome_data/retina_matrix_r1/\n",
      "  inflating: /home/mcn26/palmer_scratch/tabula_data/__MACOSX/scMPRA/data/sc_transcriptome_data/._retina_matrix_r1  \n",
      "   creating: /home/mcn26/palmer_scratch/tabula_data/scMPRA/data/sc_transcriptome_data/mixed_bc_matrix_r1/\n",
      "   creating: /home/mcn26/palmer_scratch/tabula_data/scMPRA/data/sc_transcriptome_data/k562_filtered_feature_bc_matrix_r2/\n",
      "   creating: /home/mcn26/palmer_scratch/tabula_data/scMPRA/data/sc_transcriptome_data/mixed_bc_matrix_r2/\n",
      "   creating: /home/mcn26/palmer_scratch/tabula_data/scMPRA/data/sc_transcriptome_data/retina_matrix_r2/\n",
      "  inflating: /home/mcn26/palmer_scratch/tabula_data/__MACOSX/scMPRA/data/sc_transcriptome_data/._retina_matrix_r2  \n",
      "  inflating: /home/mcn26/palmer_scratch/tabula_data/scMPRA/data/sc_expression_data/mixed_cell_pBC_exp_rep1.csv  \n",
      "  inflating: /home/mcn26/palmer_scratch/tabula_data/__MACOSX/scMPRA/data/sc_expression_data/._mixed_cell_pBC_exp_rep1.csv  \n",
      "  inflating: /home/mcn26/palmer_scratch/tabula_data/scMPRA/data/sc_expression_data/220730_hek_num_cell_num_plasmid.csv  \n",
      "  inflating: /home/mcn26/palmer_scratch/tabula_data/scMPRA/data/sc_expression_data/mixed_cell_pBC_exp_rep2.csv  \n",
      "  inflating: /home/mcn26/palmer_scratch/tabula_data/__MACOSX/scMPRA/data/sc_expression_data/._mixed_cell_pBC_exp_rep2.csv  \n",
      "  inflating: /home/mcn26/palmer_scratch/tabula_data/scMPRA/data/sc_expression_data/k562_pBC_exp.csv  \n",
      "  inflating: /home/mcn26/palmer_scratch/tabula_data/__MACOSX/scMPRA/data/sc_expression_data/._k562_pBC_exp.csv  \n",
      "  inflating: /home/mcn26/palmer_scratch/tabula_data/scMPRA/data/sc_expression_data/220730_k562_num_cell_num_plasmid.csv  \n",
      "  inflating: /home/mcn26/palmer_scratch/tabula_data/scMPRA/data/sc_expression_data/k562_pBC_exp_rep2.csv  \n",
      "  inflating: /home/mcn26/palmer_scratch/tabula_data/__MACOSX/scMPRA/data/sc_expression_data/._k562_pBC_exp_rep2.csv  \n",
      "  inflating: /home/mcn26/palmer_scratch/tabula_data/scMPRA/data/sc_expression_data/k562_pBC_exp_rep1.csv  \n",
      "  inflating: /home/mcn26/palmer_scratch/tabula_data/__MACOSX/scMPRA/data/sc_expression_data/._k562_pBC_exp_rep1.csv  \n",
      "  inflating: /home/mcn26/palmer_scratch/tabula_data/scMPRA/data/ref_data/prom_lib_info_new.tsv  \n",
      "  inflating: /home/mcn26/palmer_scratch/tabula_data/scMPRA/data/bulk_expression/bulk_exp_mixed.csv  \n",
      "  inflating: /home/mcn26/palmer_scratch/tabula_data/scMPRA/data/sc_transcriptome_data/k562_filtered_feature_bc_matrix_r1/features.tsv.gz  \n",
      "  inflating: /home/mcn26/palmer_scratch/tabula_data/scMPRA/data/sc_transcriptome_data/k562_filtered_feature_bc_matrix_r1/barcodes.tsv.gz  \n",
      "  inflating: /home/mcn26/palmer_scratch/tabula_data/scMPRA/data/sc_transcriptome_data/k562_filtered_feature_bc_matrix_r1/matrix.mtx.gz  \n",
      "  inflating: /home/mcn26/palmer_scratch/tabula_data/scMPRA/data/sc_transcriptome_data/retina_matrix_r1/.DS_Store  \n",
      "  inflating: /home/mcn26/palmer_scratch/tabula_data/__MACOSX/scMPRA/data/sc_transcriptome_data/retina_matrix_r1/._.DS_Store  \n",
      "  inflating: /home/mcn26/palmer_scratch/tabula_data/scMPRA/data/sc_transcriptome_data/retina_matrix_r1/features.tsv.gz  \n",
      "  inflating: /home/mcn26/palmer_scratch/tabula_data/__MACOSX/scMPRA/data/sc_transcriptome_data/retina_matrix_r1/._features.tsv.gz  \n",
      "  inflating: /home/mcn26/palmer_scratch/tabula_data/scMPRA/data/sc_transcriptome_data/retina_matrix_r1/barcodes.tsv.gz  \n",
      "  inflating: /home/mcn26/palmer_scratch/tabula_data/__MACOSX/scMPRA/data/sc_transcriptome_data/retina_matrix_r1/._barcodes.tsv.gz  \n",
      "  inflating: /home/mcn26/palmer_scratch/tabula_data/scMPRA/data/sc_transcriptome_data/retina_matrix_r1/matrix.mtx.gz  \n",
      "  inflating: /home/mcn26/palmer_scratch/tabula_data/__MACOSX/scMPRA/data/sc_transcriptome_data/retina_matrix_r1/._matrix.mtx.gz  \n",
      "  inflating: /home/mcn26/palmer_scratch/tabula_data/scMPRA/data/sc_transcriptome_data/mixed_bc_matrix_r1/features.tsv.gz  \n",
      "  inflating: /home/mcn26/palmer_scratch/tabula_data/scMPRA/data/sc_transcriptome_data/mixed_bc_matrix_r1/barcodes.tsv.gz  \n",
      "  inflating: /home/mcn26/palmer_scratch/tabula_data/scMPRA/data/sc_transcriptome_data/mixed_bc_matrix_r1/matrix.mtx.gz  \n",
      "  inflating: /home/mcn26/palmer_scratch/tabula_data/scMPRA/data/sc_transcriptome_data/k562_filtered_feature_bc_matrix_r2/features.tsv.gz  \n",
      "  inflating: /home/mcn26/palmer_scratch/tabula_data/scMPRA/data/sc_transcriptome_data/k562_filtered_feature_bc_matrix_r2/barcodes.tsv.gz  \n",
      "  inflating: /home/mcn26/palmer_scratch/tabula_data/scMPRA/data/sc_transcriptome_data/k562_filtered_feature_bc_matrix_r2/matrix.mtx.gz  \n",
      "  inflating: /home/mcn26/palmer_scratch/tabula_data/scMPRA/data/sc_transcriptome_data/mixed_bc_matrix_r2/features.tsv.gz  \n",
      "  inflating: /home/mcn26/palmer_scratch/tabula_data/scMPRA/data/sc_transcriptome_data/mixed_bc_matrix_r2/barcodes.tsv.gz  \n",
      "  inflating: /home/mcn26/palmer_scratch/tabula_data/scMPRA/data/sc_transcriptome_data/mixed_bc_matrix_r2/matrix.mtx.gz  \n",
      "  inflating: /home/mcn26/palmer_scratch/tabula_data/scMPRA/data/sc_transcriptome_data/retina_matrix_r2/.DS_Store  \n",
      "  inflating: /home/mcn26/palmer_scratch/tabula_data/__MACOSX/scMPRA/data/sc_transcriptome_data/retina_matrix_r2/._.DS_Store  \n",
      "  inflating: /home/mcn26/palmer_scratch/tabula_data/scMPRA/data/sc_transcriptome_data/retina_matrix_r2/features.tsv.gz  \n",
      "  inflating: /home/mcn26/palmer_scratch/tabula_data/__MACOSX/scMPRA/data/sc_transcriptome_data/retina_matrix_r2/._features.tsv.gz  \n",
      "  inflating: /home/mcn26/palmer_scratch/tabula_data/scMPRA/data/sc_transcriptome_data/retina_matrix_r2/barcodes.tsv.gz  \n",
      "  inflating: /home/mcn26/palmer_scratch/tabula_data/__MACOSX/scMPRA/data/sc_transcriptome_data/retina_matrix_r2/._barcodes.tsv.gz  \n",
      "  inflating: /home/mcn26/palmer_scratch/tabula_data/scMPRA/data/sc_transcriptome_data/retina_matrix_r2/matrix.mtx.gz  \n",
      "  inflating: /home/mcn26/palmer_scratch/tabula_data/__MACOSX/scMPRA/data/sc_transcriptome_data/retina_matrix_r2/._matrix.mtx.gz  \n"
     ]
    },
    {
     "data": {
      "text/plain": [
       "CompletedProcess(args=['unzip', '-d', '/home/mcn26/palmer_scratch/tabula_data', '/home/mcn26/palmer_scratch/tabula_data/dl'], returncode=0)"
      ]
     },
     "execution_count": 16,
     "metadata": {},
     "output_type": "execute_result"
    }
   ],
   "source": [
    "subprocess.run([\"unzip\",\"-d\",data_root,f\"{data_root}/dl\"])"
   ]
  },
  {
   "cell_type": "code",
   "execution_count": 2,
   "metadata": {},
   "outputs": [
    {
     "data": {
      "text/plain": [
       "CompletedProcess(args=['rm', '/home/mcn26/palmer_scratch/tabula_data/dl'], returncode=0)"
      ]
     },
     "execution_count": 2,
     "metadata": {},
     "output_type": "execute_result"
    }
   ],
   "source": [
    "subprocess.run([\"rm\",f\"{data_root}/dl\"])"
   ]
  },
  {
   "cell_type": "markdown",
   "metadata": {},
   "source": [
    "Code below adapted from cohen zenodo, `Part1_section3_analyze_scTranscriptome_for_retina.ipynb`."
   ]
  },
  {
   "cell_type": "code",
   "execution_count": 2,
   "metadata": {},
   "outputs": [],
   "source": [
    "import numpy as np\n",
    "import pandas as pd\n",
    "import scanpy as sc"
   ]
  },
  {
   "cell_type": "code",
   "execution_count": 3,
   "metadata": {},
   "outputs": [],
   "source": [
    "import matplotlib.pyplot as plt\n",
    "import seaborn as sns\n",
    "from matplotlib.pyplot import rc_context"
   ]
  },
  {
   "cell_type": "code",
   "execution_count": 4,
   "metadata": {},
   "outputs": [
    {
     "name": "stdout",
     "output_type": "stream",
     "text": [
      "scanpy==1.10.4 anndata==0.11.3 umap==0.5.7 numpy==2.1.3 scipy==1.15.1 pandas==2.2.3 scikit-learn==1.6.1 statsmodels==0.14.4 pynndescent==0.5.13\n"
     ]
    }
   ],
   "source": [
    "sc.settings.verbosity = 3             # verbosity: errors (0), warnings (1), info (2), hints (3)\n",
    "sc.logging.print_header()\n",
    "sc.settings.set_figure_params(dpi=80, facecolor='white')"
   ]
  },
  {
   "cell_type": "code",
   "execution_count": 5,
   "metadata": {},
   "outputs": [
    {
     "data": {
      "text/plain": [
       "'/home/mcn26/palmer_scratch/tabula_data/scMPRA'"
      ]
     },
     "execution_count": 5,
     "metadata": {},
     "output_type": "execute_result"
    }
   ],
   "source": [
    "zenodo_root=f\"{data_root}/scMPRA\"\n",
    "zenodo_root"
   ]
  },
  {
   "cell_type": "code",
   "execution_count": 6,
   "metadata": {},
   "outputs": [
    {
     "name": "stdout",
     "output_type": "stream",
     "text": [
      "... writing an h5ad cache file to speedup reading next time\n",
      "... writing an h5ad cache file to speedup reading next time\n"
     ]
    }
   ],
   "source": [
    "adata_1 = sc.read_10x_mtx(\n",
    "    f'{zenodo_root}/data/sc_transcriptome_data/retina_matrix_r1/',  # the directory with the `.mtx` file\n",
    "    var_names='gene_symbols',                # use gene symbols for the variable names (variables-axis index)\n",
    "    cache=True)  \n",
    "\n",
    "adata_2 = sc.read_10x_mtx(\n",
    "    f'{zenodo_root}/data/sc_transcriptome_data/retina_matrix_r2/',  # the directory with the `.mtx` file\n",
    "    var_names='gene_symbols',                # use gene symbols for the variable names (variables-axis index)\n",
    "    cache=True)"
   ]
  },
  {
   "cell_type": "code",
   "execution_count": 7,
   "metadata": {},
   "outputs": [
    {
     "name": "stderr",
     "output_type": "stream",
     "text": [
      "/tmp/tmp.U7arkq5g33/ipykernel_2944807/2756604280.py:1: FutureWarning: Use anndata.concat instead of AnnData.concatenate, AnnData.concatenate is deprecated and will be removed in the future. See the tutorial for concat at: https://anndata.readthedocs.io/en/latest/concatenation.html\n",
      "  adata= adata_1.concatenate(adata_2, batch_key='sample')\n"
     ]
    }
   ],
   "source": [
    "adata= adata_1.concatenate(adata_2, batch_key='sample')"
   ]
  },
  {
   "cell_type": "code",
   "execution_count": 8,
   "metadata": {},
   "outputs": [],
   "source": [
    "adata.var_names_make_unique()"
   ]
  },
  {
   "cell_type": "code",
   "execution_count": 9,
   "metadata": {},
   "outputs": [
    {
     "name": "stdout",
     "output_type": "stream",
     "text": [
      "filtered out 4 cells that have less than 200 genes expressed\n",
      "filtered out 12101 genes that are detected in less than 3 cells\n"
     ]
    }
   ],
   "source": [
    "sc.pp.filter_cells(adata, min_genes=200)\n",
    "sc.pp.filter_genes(adata, min_cells=3)"
   ]
  },
  {
   "cell_type": "code",
   "execution_count": 10,
   "metadata": {},
   "outputs": [],
   "source": [
    "adata.var['mt'] = adata.var_names.str.startswith('mt-')  # annotate the group of mitochondrial genes as 'mt'\n",
    "sc.pp.calculate_qc_metrics(adata, qc_vars=['mt'], percent_top=None, log1p=False, inplace=True)"
   ]
  },
  {
   "cell_type": "markdown",
   "metadata": {},
   "source": [
    "Seems as though they never filtered on mitochondrial, total_counts, but rather just regressed the effects out. So for our purposes (selecting valid cells) our replication of their analysis ends here."
   ]
  },
  {
   "cell_type": "code",
   "execution_count": 11,
   "metadata": {},
   "outputs": [],
   "source": [
    "cell_names = list(adata.obs_names)\n",
    "\n",
    "replicate_1 = [name for name in cell_names if name.endswith(\"-0\")]\n",
    "replicate_2 = [name for name in cell_names if name.endswith(\"-1\")]"
   ]
  },
  {
   "cell_type": "code",
   "execution_count": 12,
   "metadata": {},
   "outputs": [],
   "source": [
    "replicate_1=[bc.split(\"-\")[0] for bc in replicate_1]\n",
    "replicate_2=[bc.split(\"-\")[0] for bc in replicate_2]"
   ]
  },
  {
   "cell_type": "code",
   "execution_count": 33,
   "metadata": {},
   "outputs": [],
   "source": [
    "with open(f\"{data_root}/raw_recap/cohen_retina/cell_names/retina_rep1_cell_names\", \"w\") as f:\n",
    "    for name in replicate_1:\n",
    "        f.write(f\"{name}\\n\")"
   ]
  },
  {
   "cell_type": "code",
   "execution_count": 34,
   "metadata": {},
   "outputs": [],
   "source": [
    "with open(f\"{data_root}/raw_recap/cohen_retina/cell_names/retina_rep2_cell_names\", \"w\") as f:\n",
    "    for name in replicate_2:\n",
    "        f.write(f\"{name}\\n\")"
   ]
  }
 ],
 "metadata": {
  "kernelspec": {
   "display_name": "biopython",
   "language": "python",
   "name": "python3"
  },
  "language_info": {
   "codemirror_mode": {
    "name": "ipython",
    "version": 3
   },
   "file_extension": ".py",
   "mimetype": "text/x-python",
   "name": "python",
   "nbconvert_exporter": "python",
   "pygments_lexer": "ipython3",
   "version": "3.12.7"
  },
  "orig_nbformat": 4
 },
 "nbformat": 4,
 "nbformat_minor": 2
}
