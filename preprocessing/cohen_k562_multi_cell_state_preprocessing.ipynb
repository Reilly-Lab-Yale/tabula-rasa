{
 "cells": [
  {
   "cell_type": "markdown",
   "id": "5bf35b10-fcdb-42d1-9369-27c82a54c4a8",
   "metadata": {},
   "source": [
    "Cohen manuscript zenodo data have already been downloaded by the cohen retina preprocess script.\n"
   ]
  },
  {
   "cell_type": "code",
   "execution_count": 2,
   "id": "6f2fb074-8965-426f-bcc0-5b7e6ec38e8a",
   "metadata": {},
   "outputs": [],
   "source": [
    "data_root=\"/home/mcn26/palmer_scratch/tabula_data\"\n",
    "output_root=\"/home/mcn26/palmer_scratch/tabula_data/formatted\"\n",
    "zenodo_data_root=f\"{data_root}/scMPRA/scMPRA/data\""
   ]
  },
  {
   "cell_type": "code",
   "execution_count": 3,
   "id": "1355d31b-01fb-4605-bb18-5f287d6bea74",
   "metadata": {},
   "outputs": [],
   "source": [
    "import pandas as pd"
   ]
  },
  {
   "cell_type": "code",
   "execution_count": 4,
   "id": "4267b21d-ec80-42d9-94d8-efdd244f6e7f",
   "metadata": {},
   "outputs": [],
   "source": [
    "k562_root=f\"{zenodo_data_root}/sc_expression_data\""
   ]
  },
  {
   "cell_type": "markdown",
   "id": "f97f3112-477b-44c9-bde8-3897b4dfd671",
   "metadata": {},
   "source": [
    "As before, there are two replicate files, but also an additional large file?"
   ]
  },
  {
   "cell_type": "code",
   "execution_count": 5,
   "id": "e346cee9-56e5-4259-b937-8cffbd2b44d9",
   "metadata": {},
   "outputs": [],
   "source": [
    "mystery=pd.read_csv(f\"{k562_root}/k562_pBC_exp.csv\")"
   ]
  },
  {
   "cell_type": "code",
   "execution_count": 41,
   "id": "8674a04c-ea0d-4072-af4d-d60d093d4dba",
   "metadata": {},
   "outputs": [],
   "source": [
    "rep1=pd.read_csv(f\"{k562_root}/k562_pBC_exp_rep1.csv\")"
   ]
  },
  {
   "cell_type": "code",
   "execution_count": 42,
   "id": "5a0fa686-8fbb-4791-b560-5a014e59da06",
   "metadata": {},
   "outputs": [],
   "source": [
    "rep2=pd.read_csv(f\"{k562_root}/k562_pBC_exp_rep2.csv\")"
   ]
  },
  {
   "cell_type": "code",
   "execution_count": 8,
   "id": "af2fb2b2-e47d-4acd-b00c-bc9cd02c6b52",
   "metadata": {},
   "outputs": [
    {
     "data": {
      "text/plain": [
       "519256"
      ]
     },
     "execution_count": 8,
     "metadata": {},
     "output_type": "execute_result"
    }
   ],
   "source": [
    "len(rep1)"
   ]
  },
  {
   "cell_type": "code",
   "execution_count": 9,
   "id": "fc4a2c17-1de7-4f6b-b113-59b8b92bd805",
   "metadata": {},
   "outputs": [
    {
     "data": {
      "text/plain": [
       "479572"
      ]
     },
     "execution_count": 9,
     "metadata": {},
     "output_type": "execute_result"
    }
   ],
   "source": [
    "len(rep2)"
   ]
  },
  {
   "cell_type": "code",
   "execution_count": 10,
   "id": "71ab76c0-2ef1-4d5e-aeff-814d8454a80c",
   "metadata": {},
   "outputs": [
    {
     "data": {
      "text/plain": [
       "998828"
      ]
     },
     "execution_count": 10,
     "metadata": {},
     "output_type": "execute_result"
    }
   ],
   "source": [
    "len(mystery)"
   ]
  },
  {
   "cell_type": "markdown",
   "id": "bb618a21-c5b8-4e37-b494-eb9ff2ed7849",
   "metadata": {},
   "source": [
    "Based on the sizes, it seems like the 'big file' is a merge of the two replicate files. But without replicate information it's useless."
   ]
  },
  {
   "cell_type": "code",
   "execution_count": 11,
   "id": "ae1d62b3-0a8d-4ce8-a55c-845a7885e8ea",
   "metadata": {},
   "outputs": [],
   "source": [
    "rep1[\"rep_id\"]=1\n",
    "rep2[\"rep_id\"]=2\n",
    "df=pd.concat([rep1,rep2],axis=0,ignore_index=True)"
   ]
  },
  {
   "cell_type": "code",
   "execution_count": 12,
   "id": "dd7351e8-23d9-4753-ad0a-11fff0908cdd",
   "metadata": {},
   "outputs": [
    {
     "data": {
      "text/html": [
       "<div>\n",
       "<style scoped>\n",
       "    .dataframe tbody tr th:only-of-type {\n",
       "        vertical-align: middle;\n",
       "    }\n",
       "\n",
       "    .dataframe tbody tr th {\n",
       "        vertical-align: top;\n",
       "    }\n",
       "\n",
       "    .dataframe thead th {\n",
       "        text-align: right;\n",
       "    }\n",
       "</style>\n",
       "<table border=\"1\" class=\"dataframe\">\n",
       "  <thead>\n",
       "    <tr style=\"text-align: right;\">\n",
       "      <th></th>\n",
       "      <th>cellBC</th>\n",
       "      <th>prom_id</th>\n",
       "      <th>pBC</th>\n",
       "      <th>norm_exp</th>\n",
       "      <th>direct_exp</th>\n",
       "      <th>rep_id</th>\n",
       "    </tr>\n",
       "  </thead>\n",
       "  <tbody>\n",
       "    <tr>\n",
       "      <th>0</th>\n",
       "      <td>GGGACAACAGGAGGAG</td>\n",
       "      <td>chr1_169599292_169599425_-</td>\n",
       "      <td>GAAGACTGTGTA</td>\n",
       "      <td>704.845815</td>\n",
       "      <td>10</td>\n",
       "      <td>1</td>\n",
       "    </tr>\n",
       "    <tr>\n",
       "      <th>1</th>\n",
       "      <td>GGGACAACAGGAGGAG</td>\n",
       "      <td>chrX_55744115_55744248_+</td>\n",
       "      <td>AGGAGGAACACA</td>\n",
       "      <td>281.938326</td>\n",
       "      <td>4</td>\n",
       "      <td>1</td>\n",
       "    </tr>\n",
       "    <tr>\n",
       "      <th>2</th>\n",
       "      <td>GGGACAACAGGAGGAG</td>\n",
       "      <td>chr1_229569774_229569907_-</td>\n",
       "      <td>ACCAGCGTAAGC</td>\n",
       "      <td>5004.405286</td>\n",
       "      <td>71</td>\n",
       "      <td>1</td>\n",
       "    </tr>\n",
       "    <tr>\n",
       "      <th>3</th>\n",
       "      <td>GGGACAACAGGAGGAG</td>\n",
       "      <td>chr17_10325195_10325328_-</td>\n",
       "      <td>AAGAAGAGTAGG</td>\n",
       "      <td>775.330396</td>\n",
       "      <td>11</td>\n",
       "      <td>1</td>\n",
       "    </tr>\n",
       "    <tr>\n",
       "      <th>4</th>\n",
       "      <td>GGGACAACAGGAGGAG</td>\n",
       "      <td>chr15_41221471_41221604_+</td>\n",
       "      <td>CATATACCGCTA</td>\n",
       "      <td>845.814978</td>\n",
       "      <td>12</td>\n",
       "      <td>1</td>\n",
       "    </tr>\n",
       "    <tr>\n",
       "      <th>...</th>\n",
       "      <td>...</td>\n",
       "      <td>...</td>\n",
       "      <td>...</td>\n",
       "      <td>...</td>\n",
       "      <td>...</td>\n",
       "      <td>...</td>\n",
       "    </tr>\n",
       "    <tr>\n",
       "      <th>998823</th>\n",
       "      <td>TTATTGCCACAACGCC</td>\n",
       "      <td>chr8_101162797_101162930_+</td>\n",
       "      <td>CTAGCTCATGCA</td>\n",
       "      <td>96.498054</td>\n",
       "      <td>1</td>\n",
       "      <td>2</td>\n",
       "    </tr>\n",
       "    <tr>\n",
       "      <th>998824</th>\n",
       "      <td>TTATTGCCACAACGCC</td>\n",
       "      <td>chr19_52490015_52490148_-</td>\n",
       "      <td>CTTAGAGCTTCA</td>\n",
       "      <td>96.498054</td>\n",
       "      <td>1</td>\n",
       "      <td>2</td>\n",
       "    </tr>\n",
       "    <tr>\n",
       "      <th>998825</th>\n",
       "      <td>TTATTGCCACAACGCC</td>\n",
       "      <td>chr6_42928425_42928558_+</td>\n",
       "      <td>AGCATTACCGTT</td>\n",
       "      <td>96.498054</td>\n",
       "      <td>1</td>\n",
       "      <td>2</td>\n",
       "    </tr>\n",
       "    <tr>\n",
       "      <th>998826</th>\n",
       "      <td>TTATTGCCACAACGCC</td>\n",
       "      <td>chr9_19380167_19380300_-</td>\n",
       "      <td>TACCATCTGAAC</td>\n",
       "      <td>96.498054</td>\n",
       "      <td>1</td>\n",
       "      <td>2</td>\n",
       "    </tr>\n",
       "    <tr>\n",
       "      <th>998827</th>\n",
       "      <td>TTATTGCCACAACGCC</td>\n",
       "      <td>chr17_30677109_30677242_+</td>\n",
       "      <td>ACCGGAAGACTC</td>\n",
       "      <td>96.498054</td>\n",
       "      <td>1</td>\n",
       "      <td>2</td>\n",
       "    </tr>\n",
       "  </tbody>\n",
       "</table>\n",
       "<p>998828 rows × 6 columns</p>\n",
       "</div>"
      ],
      "text/plain": [
       "                  cellBC                     prom_id           pBC  \\\n",
       "0       GGGACAACAGGAGGAG  chr1_169599292_169599425_-  GAAGACTGTGTA   \n",
       "1       GGGACAACAGGAGGAG    chrX_55744115_55744248_+  AGGAGGAACACA   \n",
       "2       GGGACAACAGGAGGAG  chr1_229569774_229569907_-  ACCAGCGTAAGC   \n",
       "3       GGGACAACAGGAGGAG   chr17_10325195_10325328_-  AAGAAGAGTAGG   \n",
       "4       GGGACAACAGGAGGAG   chr15_41221471_41221604_+  CATATACCGCTA   \n",
       "...                  ...                         ...           ...   \n",
       "998823  TTATTGCCACAACGCC  chr8_101162797_101162930_+  CTAGCTCATGCA   \n",
       "998824  TTATTGCCACAACGCC   chr19_52490015_52490148_-  CTTAGAGCTTCA   \n",
       "998825  TTATTGCCACAACGCC    chr6_42928425_42928558_+  AGCATTACCGTT   \n",
       "998826  TTATTGCCACAACGCC    chr9_19380167_19380300_-  TACCATCTGAAC   \n",
       "998827  TTATTGCCACAACGCC   chr17_30677109_30677242_+  ACCGGAAGACTC   \n",
       "\n",
       "           norm_exp  direct_exp  rep_id  \n",
       "0        704.845815          10       1  \n",
       "1        281.938326           4       1  \n",
       "2       5004.405286          71       1  \n",
       "3        775.330396          11       1  \n",
       "4        845.814978          12       1  \n",
       "...             ...         ...     ...  \n",
       "998823    96.498054           1       2  \n",
       "998824    96.498054           1       2  \n",
       "998825    96.498054           1       2  \n",
       "998826    96.498054           1       2  \n",
       "998827    96.498054           1       2  \n",
       "\n",
       "[998828 rows x 6 columns]"
      ]
     },
     "execution_count": 12,
     "metadata": {},
     "output_type": "execute_result"
    }
   ],
   "source": [
    "df"
   ]
  },
  {
   "cell_type": "markdown",
   "id": "c2f04ccf-bd34-48bb-b001-bf2b701e16d4",
   "metadata": {},
   "source": [
    "See mixed cell preprocessing for more explanations : it was done first and on an identical file-format."
   ]
  },
  {
   "cell_type": "code",
   "execution_count": 13,
   "id": "7ff48702-5b92-46ce-8847-2494e635cb02",
   "metadata": {},
   "outputs": [
    {
     "data": {
      "text/html": [
       "<div>\n",
       "<style scoped>\n",
       "    .dataframe tbody tr th:only-of-type {\n",
       "        vertical-align: middle;\n",
       "    }\n",
       "\n",
       "    .dataframe tbody tr th {\n",
       "        vertical-align: top;\n",
       "    }\n",
       "\n",
       "    .dataframe thead th {\n",
       "        text-align: right;\n",
       "    }\n",
       "</style>\n",
       "<table border=\"1\" class=\"dataframe\">\n",
       "  <thead>\n",
       "    <tr style=\"text-align: right;\">\n",
       "      <th></th>\n",
       "      <th>cellBC</th>\n",
       "      <th>CRE_id</th>\n",
       "      <th>UMIs_MPRA_BC</th>\n",
       "      <th>rep_id</th>\n",
       "    </tr>\n",
       "  </thead>\n",
       "  <tbody>\n",
       "    <tr>\n",
       "      <th>0</th>\n",
       "      <td>GGGACAACAGGAGGAG</td>\n",
       "      <td>chr1_169599292_169599425_-</td>\n",
       "      <td>10</td>\n",
       "      <td>1</td>\n",
       "    </tr>\n",
       "    <tr>\n",
       "      <th>1</th>\n",
       "      <td>GGGACAACAGGAGGAG</td>\n",
       "      <td>chrX_55744115_55744248_+</td>\n",
       "      <td>4</td>\n",
       "      <td>1</td>\n",
       "    </tr>\n",
       "    <tr>\n",
       "      <th>2</th>\n",
       "      <td>GGGACAACAGGAGGAG</td>\n",
       "      <td>chr1_229569774_229569907_-</td>\n",
       "      <td>71</td>\n",
       "      <td>1</td>\n",
       "    </tr>\n",
       "    <tr>\n",
       "      <th>3</th>\n",
       "      <td>GGGACAACAGGAGGAG</td>\n",
       "      <td>chr17_10325195_10325328_-</td>\n",
       "      <td>11</td>\n",
       "      <td>1</td>\n",
       "    </tr>\n",
       "    <tr>\n",
       "      <th>4</th>\n",
       "      <td>GGGACAACAGGAGGAG</td>\n",
       "      <td>chr15_41221471_41221604_+</td>\n",
       "      <td>12</td>\n",
       "      <td>1</td>\n",
       "    </tr>\n",
       "    <tr>\n",
       "      <th>...</th>\n",
       "      <td>...</td>\n",
       "      <td>...</td>\n",
       "      <td>...</td>\n",
       "      <td>...</td>\n",
       "    </tr>\n",
       "    <tr>\n",
       "      <th>998823</th>\n",
       "      <td>TTATTGCCACAACGCC</td>\n",
       "      <td>chr8_101162797_101162930_+</td>\n",
       "      <td>1</td>\n",
       "      <td>2</td>\n",
       "    </tr>\n",
       "    <tr>\n",
       "      <th>998824</th>\n",
       "      <td>TTATTGCCACAACGCC</td>\n",
       "      <td>chr19_52490015_52490148_-</td>\n",
       "      <td>1</td>\n",
       "      <td>2</td>\n",
       "    </tr>\n",
       "    <tr>\n",
       "      <th>998825</th>\n",
       "      <td>TTATTGCCACAACGCC</td>\n",
       "      <td>chr6_42928425_42928558_+</td>\n",
       "      <td>1</td>\n",
       "      <td>2</td>\n",
       "    </tr>\n",
       "    <tr>\n",
       "      <th>998826</th>\n",
       "      <td>TTATTGCCACAACGCC</td>\n",
       "      <td>chr9_19380167_19380300_-</td>\n",
       "      <td>1</td>\n",
       "      <td>2</td>\n",
       "    </tr>\n",
       "    <tr>\n",
       "      <th>998827</th>\n",
       "      <td>TTATTGCCACAACGCC</td>\n",
       "      <td>chr17_30677109_30677242_+</td>\n",
       "      <td>1</td>\n",
       "      <td>2</td>\n",
       "    </tr>\n",
       "  </tbody>\n",
       "</table>\n",
       "<p>998828 rows × 4 columns</p>\n",
       "</div>"
      ],
      "text/plain": [
       "                  cellBC                      CRE_id  UMIs_MPRA_BC  rep_id\n",
       "0       GGGACAACAGGAGGAG  chr1_169599292_169599425_-            10       1\n",
       "1       GGGACAACAGGAGGAG    chrX_55744115_55744248_+             4       1\n",
       "2       GGGACAACAGGAGGAG  chr1_229569774_229569907_-            71       1\n",
       "3       GGGACAACAGGAGGAG   chr17_10325195_10325328_-            11       1\n",
       "4       GGGACAACAGGAGGAG   chr15_41221471_41221604_+            12       1\n",
       "...                  ...                         ...           ...     ...\n",
       "998823  TTATTGCCACAACGCC  chr8_101162797_101162930_+             1       2\n",
       "998824  TTATTGCCACAACGCC   chr19_52490015_52490148_-             1       2\n",
       "998825  TTATTGCCACAACGCC    chr6_42928425_42928558_+             1       2\n",
       "998826  TTATTGCCACAACGCC    chr9_19380167_19380300_-             1       2\n",
       "998827  TTATTGCCACAACGCC   chr17_30677109_30677242_+             1       2\n",
       "\n",
       "[998828 rows x 4 columns]"
      ]
     },
     "execution_count": 13,
     "metadata": {},
     "output_type": "execute_result"
    }
   ],
   "source": [
    "df=df.drop([\"pBC\",\"norm_exp\"],axis=1)\n",
    "df=df.rename({'prom_id':'CRE_id','direct_exp':'UMIs_MPRA_BC'},axis=1)\n",
    "df"
   ]
  },
  {
   "cell_type": "code",
   "execution_count": 14,
   "id": "f54e598d-336a-470c-b449-6db65c4bfafd",
   "metadata": {},
   "outputs": [],
   "source": [
    "cell_cycle=pd.read_csv(f'{zenodo_data_root}/sc_cellBC_association/k562_cell_cycle_phase.csv')\n",
    "cell_identity=pd.read_csv(f'{zenodo_data_root}/sc_cellBC_association/k562_cell_state_clustering.csv')"
   ]
  },
  {
   "cell_type": "code",
   "execution_count": 15,
   "id": "f8b45f56-8eb0-4919-a4d7-ce47b0f50b5c",
   "metadata": {},
   "outputs": [],
   "source": [
    "def fix(df):\n",
    "    df['cellBC']=df['Unnamed: 0'].apply(lambda x : x.split(\"-\")[0])\n",
    "    df['replicate']=df['Unnamed: 0'].apply(lambda x : x.split(\"-\")[2])\n",
    "    df=df.drop('Unnamed: 0',axis=1)\n",
    "    return df"
   ]
  },
  {
   "cell_type": "code",
   "execution_count": 16,
   "id": "07da5793-ece1-47cd-8282-66f10ab2a4ed",
   "metadata": {},
   "outputs": [],
   "source": [
    "cell_type_key=fix(cell_cycle).merge(fix(cell_identity),on=[\"replicate\",\"cellBC\"],how=\"inner\")"
   ]
  },
  {
   "cell_type": "code",
   "execution_count": 17,
   "id": "0a0910c6-34ac-4859-9567-c68c19743a69",
   "metadata": {},
   "outputs": [
    {
     "data": {
      "text/plain": [
       "'input 4276 and 4041 , output 4027'"
      ]
     },
     "execution_count": 17,
     "metadata": {},
     "output_type": "execute_result"
    }
   ],
   "source": [
    "f\"input {len(cell_cycle)} and {len(cell_identity)} , output {len(cell_type_key)}\""
   ]
  },
  {
   "cell_type": "markdown",
   "id": "42f68b04-c9f9-4df4-9e40-08e4b9572fb8",
   "metadata": {},
   "source": [
    "Not bad loss."
   ]
  },
  {
   "cell_type": "code",
   "execution_count": 18,
   "id": "fc1abae0-45ff-42bb-a581-fdc6ada930d8",
   "metadata": {},
   "outputs": [],
   "source": [
    "cell_type_key.rename({'replicate':'rep_id'},axis=1,inplace=True)"
   ]
  },
  {
   "cell_type": "code",
   "execution_count": 19,
   "id": "e2fed153-b37f-45df-8b3f-0c088920bde9",
   "metadata": {},
   "outputs": [],
   "source": [
    "cell_type_key[\"rep_id\"]=cell_type_key[\"rep_id\"].astype(int)"
   ]
  },
  {
   "cell_type": "code",
   "execution_count": 20,
   "id": "5738753d-ee90-4334-b0aa-24d0da678e94",
   "metadata": {},
   "outputs": [],
   "source": [
    "sensible_join=df.merge(cell_type_key,on=[\"rep_id\",\"cellBC\"],how=\"left\")"
   ]
  },
  {
   "cell_type": "code",
   "execution_count": 21,
   "id": "d971a82e-968c-4da3-beb9-877fe90aa085",
   "metadata": {},
   "outputs": [
    {
     "data": {
      "text/html": [
       "<div>\n",
       "<style scoped>\n",
       "    .dataframe tbody tr th:only-of-type {\n",
       "        vertical-align: middle;\n",
       "    }\n",
       "\n",
       "    .dataframe tbody tr th {\n",
       "        vertical-align: top;\n",
       "    }\n",
       "\n",
       "    .dataframe thead th {\n",
       "        text-align: right;\n",
       "    }\n",
       "</style>\n",
       "<table border=\"1\" class=\"dataframe\">\n",
       "  <thead>\n",
       "    <tr style=\"text-align: right;\">\n",
       "      <th></th>\n",
       "      <th>cellBC</th>\n",
       "      <th>CRE_id</th>\n",
       "      <th>UMIs_MPRA_BC</th>\n",
       "      <th>rep_id</th>\n",
       "      <th>phase</th>\n",
       "      <th>clusters</th>\n",
       "    </tr>\n",
       "  </thead>\n",
       "  <tbody>\n",
       "    <tr>\n",
       "      <th>0</th>\n",
       "      <td>GGGACAACAGGAGGAG</td>\n",
       "      <td>chr1_169599292_169599425_-</td>\n",
       "      <td>10</td>\n",
       "      <td>1</td>\n",
       "      <td>NaN</td>\n",
       "      <td>NaN</td>\n",
       "    </tr>\n",
       "    <tr>\n",
       "      <th>1</th>\n",
       "      <td>GGGACAACAGGAGGAG</td>\n",
       "      <td>chrX_55744115_55744248_+</td>\n",
       "      <td>4</td>\n",
       "      <td>1</td>\n",
       "      <td>NaN</td>\n",
       "      <td>NaN</td>\n",
       "    </tr>\n",
       "    <tr>\n",
       "      <th>2</th>\n",
       "      <td>GGGACAACAGGAGGAG</td>\n",
       "      <td>chr1_229569774_229569907_-</td>\n",
       "      <td>71</td>\n",
       "      <td>1</td>\n",
       "      <td>NaN</td>\n",
       "      <td>NaN</td>\n",
       "    </tr>\n",
       "    <tr>\n",
       "      <th>3</th>\n",
       "      <td>GGGACAACAGGAGGAG</td>\n",
       "      <td>chr17_10325195_10325328_-</td>\n",
       "      <td>11</td>\n",
       "      <td>1</td>\n",
       "      <td>NaN</td>\n",
       "      <td>NaN</td>\n",
       "    </tr>\n",
       "    <tr>\n",
       "      <th>4</th>\n",
       "      <td>GGGACAACAGGAGGAG</td>\n",
       "      <td>chr15_41221471_41221604_+</td>\n",
       "      <td>12</td>\n",
       "      <td>1</td>\n",
       "      <td>NaN</td>\n",
       "      <td>NaN</td>\n",
       "    </tr>\n",
       "    <tr>\n",
       "      <th>...</th>\n",
       "      <td>...</td>\n",
       "      <td>...</td>\n",
       "      <td>...</td>\n",
       "      <td>...</td>\n",
       "      <td>...</td>\n",
       "      <td>...</td>\n",
       "    </tr>\n",
       "    <tr>\n",
       "      <th>998823</th>\n",
       "      <td>TTATTGCCACAACGCC</td>\n",
       "      <td>chr8_101162797_101162930_+</td>\n",
       "      <td>1</td>\n",
       "      <td>2</td>\n",
       "      <td>NaN</td>\n",
       "      <td>NaN</td>\n",
       "    </tr>\n",
       "    <tr>\n",
       "      <th>998824</th>\n",
       "      <td>TTATTGCCACAACGCC</td>\n",
       "      <td>chr19_52490015_52490148_-</td>\n",
       "      <td>1</td>\n",
       "      <td>2</td>\n",
       "      <td>NaN</td>\n",
       "      <td>NaN</td>\n",
       "    </tr>\n",
       "    <tr>\n",
       "      <th>998825</th>\n",
       "      <td>TTATTGCCACAACGCC</td>\n",
       "      <td>chr6_42928425_42928558_+</td>\n",
       "      <td>1</td>\n",
       "      <td>2</td>\n",
       "      <td>NaN</td>\n",
       "      <td>NaN</td>\n",
       "    </tr>\n",
       "    <tr>\n",
       "      <th>998826</th>\n",
       "      <td>TTATTGCCACAACGCC</td>\n",
       "      <td>chr9_19380167_19380300_-</td>\n",
       "      <td>1</td>\n",
       "      <td>2</td>\n",
       "      <td>NaN</td>\n",
       "      <td>NaN</td>\n",
       "    </tr>\n",
       "    <tr>\n",
       "      <th>998827</th>\n",
       "      <td>TTATTGCCACAACGCC</td>\n",
       "      <td>chr17_30677109_30677242_+</td>\n",
       "      <td>1</td>\n",
       "      <td>2</td>\n",
       "      <td>NaN</td>\n",
       "      <td>NaN</td>\n",
       "    </tr>\n",
       "  </tbody>\n",
       "</table>\n",
       "<p>998828 rows × 6 columns</p>\n",
       "</div>"
      ],
      "text/plain": [
       "                  cellBC                      CRE_id  UMIs_MPRA_BC  rep_id  \\\n",
       "0       GGGACAACAGGAGGAG  chr1_169599292_169599425_-            10       1   \n",
       "1       GGGACAACAGGAGGAG    chrX_55744115_55744248_+             4       1   \n",
       "2       GGGACAACAGGAGGAG  chr1_229569774_229569907_-            71       1   \n",
       "3       GGGACAACAGGAGGAG   chr17_10325195_10325328_-            11       1   \n",
       "4       GGGACAACAGGAGGAG   chr15_41221471_41221604_+            12       1   \n",
       "...                  ...                         ...           ...     ...   \n",
       "998823  TTATTGCCACAACGCC  chr8_101162797_101162930_+             1       2   \n",
       "998824  TTATTGCCACAACGCC   chr19_52490015_52490148_-             1       2   \n",
       "998825  TTATTGCCACAACGCC    chr6_42928425_42928558_+             1       2   \n",
       "998826  TTATTGCCACAACGCC    chr9_19380167_19380300_-             1       2   \n",
       "998827  TTATTGCCACAACGCC   chr17_30677109_30677242_+             1       2   \n",
       "\n",
       "       phase clusters  \n",
       "0        NaN      NaN  \n",
       "1        NaN      NaN  \n",
       "2        NaN      NaN  \n",
       "3        NaN      NaN  \n",
       "4        NaN      NaN  \n",
       "...      ...      ...  \n",
       "998823   NaN      NaN  \n",
       "998824   NaN      NaN  \n",
       "998825   NaN      NaN  \n",
       "998826   NaN      NaN  \n",
       "998827   NaN      NaN  \n",
       "\n",
       "[998828 rows x 6 columns]"
      ]
     },
     "execution_count": 21,
     "metadata": {},
     "output_type": "execute_result"
    }
   ],
   "source": [
    "sensible_join"
   ]
  },
  {
   "cell_type": "code",
   "execution_count": 22,
   "id": "6ee1a49d-08da-4864-92d1-1182f3b2c25d",
   "metadata": {},
   "outputs": [
    {
     "data": {
      "text/plain": [
       "'input 998828 and 4027 , output 998828'"
      ]
     },
     "execution_count": 22,
     "metadata": {},
     "output_type": "execute_result"
    }
   ],
   "source": [
    "f\"input {len(df)} and {len(cell_type_key)} , output {len(sensible_join)}\""
   ]
  },
  {
   "cell_type": "code",
   "execution_count": 23,
   "id": "61cd90fa-ba53-47ca-aa1c-572ca3f0132e",
   "metadata": {},
   "outputs": [
    {
     "data": {
      "text/plain": [
       "np.int64(607863)"
      ]
     },
     "execution_count": 23,
     "metadata": {},
     "output_type": "execute_result"
    }
   ],
   "source": [
    "sensible_join.isna().any(axis=1).sum()\n"
   ]
  },
  {
   "cell_type": "code",
   "execution_count": 24,
   "id": "406bbada-e6f9-43a6-a970-19c157bdebf2",
   "metadata": {},
   "outputs": [
    {
     "data": {
      "text/html": [
       "<div>\n",
       "<style scoped>\n",
       "    .dataframe tbody tr th:only-of-type {\n",
       "        vertical-align: middle;\n",
       "    }\n",
       "\n",
       "    .dataframe tbody tr th {\n",
       "        vertical-align: top;\n",
       "    }\n",
       "\n",
       "    .dataframe thead th {\n",
       "        text-align: right;\n",
       "    }\n",
       "</style>\n",
       "<table border=\"1\" class=\"dataframe\">\n",
       "  <thead>\n",
       "    <tr style=\"text-align: right;\">\n",
       "      <th></th>\n",
       "      <th>cellBC</th>\n",
       "      <th>CRE_id</th>\n",
       "      <th>UMIs_MPRA_BC</th>\n",
       "      <th>rep_id</th>\n",
       "      <th>phase</th>\n",
       "      <th>clusters</th>\n",
       "    </tr>\n",
       "  </thead>\n",
       "  <tbody>\n",
       "    <tr>\n",
       "      <th>0</th>\n",
       "      <td>GGGACAACAGGAGGAG</td>\n",
       "      <td>chr1_169599292_169599425_-</td>\n",
       "      <td>10</td>\n",
       "      <td>1</td>\n",
       "      <td>NaN</td>\n",
       "      <td>NaN</td>\n",
       "    </tr>\n",
       "    <tr>\n",
       "      <th>1</th>\n",
       "      <td>GGGACAACAGGAGGAG</td>\n",
       "      <td>chrX_55744115_55744248_+</td>\n",
       "      <td>4</td>\n",
       "      <td>1</td>\n",
       "      <td>NaN</td>\n",
       "      <td>NaN</td>\n",
       "    </tr>\n",
       "    <tr>\n",
       "      <th>2</th>\n",
       "      <td>GGGACAACAGGAGGAG</td>\n",
       "      <td>chr1_229569774_229569907_-</td>\n",
       "      <td>71</td>\n",
       "      <td>1</td>\n",
       "      <td>NaN</td>\n",
       "      <td>NaN</td>\n",
       "    </tr>\n",
       "    <tr>\n",
       "      <th>3</th>\n",
       "      <td>GGGACAACAGGAGGAG</td>\n",
       "      <td>chr17_10325195_10325328_-</td>\n",
       "      <td>11</td>\n",
       "      <td>1</td>\n",
       "      <td>NaN</td>\n",
       "      <td>NaN</td>\n",
       "    </tr>\n",
       "    <tr>\n",
       "      <th>4</th>\n",
       "      <td>GGGACAACAGGAGGAG</td>\n",
       "      <td>chr15_41221471_41221604_+</td>\n",
       "      <td>12</td>\n",
       "      <td>1</td>\n",
       "      <td>NaN</td>\n",
       "      <td>NaN</td>\n",
       "    </tr>\n",
       "    <tr>\n",
       "      <th>...</th>\n",
       "      <td>...</td>\n",
       "      <td>...</td>\n",
       "      <td>...</td>\n",
       "      <td>...</td>\n",
       "      <td>...</td>\n",
       "      <td>...</td>\n",
       "    </tr>\n",
       "    <tr>\n",
       "      <th>998823</th>\n",
       "      <td>TTATTGCCACAACGCC</td>\n",
       "      <td>chr8_101162797_101162930_+</td>\n",
       "      <td>1</td>\n",
       "      <td>2</td>\n",
       "      <td>NaN</td>\n",
       "      <td>NaN</td>\n",
       "    </tr>\n",
       "    <tr>\n",
       "      <th>998824</th>\n",
       "      <td>TTATTGCCACAACGCC</td>\n",
       "      <td>chr19_52490015_52490148_-</td>\n",
       "      <td>1</td>\n",
       "      <td>2</td>\n",
       "      <td>NaN</td>\n",
       "      <td>NaN</td>\n",
       "    </tr>\n",
       "    <tr>\n",
       "      <th>998825</th>\n",
       "      <td>TTATTGCCACAACGCC</td>\n",
       "      <td>chr6_42928425_42928558_+</td>\n",
       "      <td>1</td>\n",
       "      <td>2</td>\n",
       "      <td>NaN</td>\n",
       "      <td>NaN</td>\n",
       "    </tr>\n",
       "    <tr>\n",
       "      <th>998826</th>\n",
       "      <td>TTATTGCCACAACGCC</td>\n",
       "      <td>chr9_19380167_19380300_-</td>\n",
       "      <td>1</td>\n",
       "      <td>2</td>\n",
       "      <td>NaN</td>\n",
       "      <td>NaN</td>\n",
       "    </tr>\n",
       "    <tr>\n",
       "      <th>998827</th>\n",
       "      <td>TTATTGCCACAACGCC</td>\n",
       "      <td>chr17_30677109_30677242_+</td>\n",
       "      <td>1</td>\n",
       "      <td>2</td>\n",
       "      <td>NaN</td>\n",
       "      <td>NaN</td>\n",
       "    </tr>\n",
       "  </tbody>\n",
       "</table>\n",
       "<p>607863 rows × 6 columns</p>\n",
       "</div>"
      ],
      "text/plain": [
       "                  cellBC                      CRE_id  UMIs_MPRA_BC  rep_id  \\\n",
       "0       GGGACAACAGGAGGAG  chr1_169599292_169599425_-            10       1   \n",
       "1       GGGACAACAGGAGGAG    chrX_55744115_55744248_+             4       1   \n",
       "2       GGGACAACAGGAGGAG  chr1_229569774_229569907_-            71       1   \n",
       "3       GGGACAACAGGAGGAG   chr17_10325195_10325328_-            11       1   \n",
       "4       GGGACAACAGGAGGAG   chr15_41221471_41221604_+            12       1   \n",
       "...                  ...                         ...           ...     ...   \n",
       "998823  TTATTGCCACAACGCC  chr8_101162797_101162930_+             1       2   \n",
       "998824  TTATTGCCACAACGCC   chr19_52490015_52490148_-             1       2   \n",
       "998825  TTATTGCCACAACGCC    chr6_42928425_42928558_+             1       2   \n",
       "998826  TTATTGCCACAACGCC    chr9_19380167_19380300_-             1       2   \n",
       "998827  TTATTGCCACAACGCC   chr17_30677109_30677242_+             1       2   \n",
       "\n",
       "       phase clusters  \n",
       "0        NaN      NaN  \n",
       "1        NaN      NaN  \n",
       "2        NaN      NaN  \n",
       "3        NaN      NaN  \n",
       "4        NaN      NaN  \n",
       "...      ...      ...  \n",
       "998823   NaN      NaN  \n",
       "998824   NaN      NaN  \n",
       "998825   NaN      NaN  \n",
       "998826   NaN      NaN  \n",
       "998827   NaN      NaN  \n",
       "\n",
       "[607863 rows x 6 columns]"
      ]
     },
     "execution_count": 24,
     "metadata": {},
     "output_type": "execute_result"
    }
   ],
   "source": [
    "sensible_join[sensible_join.isna().any(axis=1)]"
   ]
  },
  {
   "cell_type": "code",
   "execution_count": 35,
   "id": "43b4c72b-33cf-42da-b04b-e042ff30f6c2",
   "metadata": {},
   "outputs": [
    {
     "name": "stdout",
     "output_type": "stream",
     "text": [
      "4027\n",
      "3383\n"
     ]
    },
    {
     "data": {
      "text/plain": [
       "2718"
      ]
     },
     "execution_count": 35,
     "metadata": {},
     "output_type": "execute_result"
    }
   ],
   "source": [
    "print(len(set(cell_type_key[\"cellBC\"])))\n",
    "print(len(set(df[\"cellBC\"])))\n",
    "len(set(cell_type_key[\"cellBC\"]).intersection(set(df[\"cellBC\"])))"
   ]
  },
  {
   "cell_type": "markdown",
   "id": "04a518ae-26ec-4bfa-a96c-bd357c00fa92",
   "metadata": {},
   "source": [
    "Ok. only ~3k cell overlap. Compared to manuscript claim of \"4,041 cells from two biological replicates\"...\n",
    "\n",
    "First, let's check that weird combo file I found previously. "
   ]
  },
  {
   "cell_type": "code",
   "execution_count": 37,
   "id": "30f53fca-011e-4f3f-87bb-ce5aa549fa14",
   "metadata": {},
   "outputs": [
    {
     "name": "stdout",
     "output_type": "stream",
     "text": [
      "3383\n",
      "3383\n",
      "3383\n"
     ]
    }
   ],
   "source": [
    "print(len(set(mystery[\"cellBC\"])))\n",
    "print(len((set(df[\"cellBC\"]))))\n",
    "print(len(set(mystery[\"cellBC\"]).intersection(set(df[\"cellBC\"]))))"
   ]
  },
  {
   "cell_type": "markdown",
   "id": "d4a67b8d-ce7c-41ad-bccc-951c2324d4d9",
   "metadata": {},
   "source": [
    "ok, so no help there. Seem to just be the same files. "
   ]
  },
  {
   "cell_type": "markdown",
   "id": "a15eb16c-e5e3-4aae-84dd-06460fb21e54",
   "metadata": {},
   "source": [
    "Let's check the ncbi files and see if they are the same? Since in the cohen mixed cell they were different."
   ]
  },
  {
   "cell_type": "code",
   "execution_count": 38,
   "id": "f0ea56c5-60c9-4b77-bbab-e2f5f38f3b34",
   "metadata": {},
   "outputs": [
    {
     "data": {
      "text/plain": [
       "('/home/mcn26/palmer_scratch/tabula_data/GSM5687485_k562_pBC_exp_rep2.csv.gz',\n",
       " <http.client.HTTPMessage at 0x15192c7e4d60>)"
      ]
     },
     "execution_count": 38,
     "metadata": {},
     "output_type": "execute_result"
    }
   ],
   "source": [
    "import urllib.request\n",
    "\n",
    "rep1_ncbi_k562_path=f\"{data_root}/GSM5687485_k562_pBC_exp_rep1.csv.gz\"\n",
    "\n",
    "urllib.request.urlretrieve(\"https://www.ncbi.nlm.nih.gov/geo/download/?acc=GSM5687485&format=file&file=GSM5687485%5Fk562%5FpBC%5Fexp%5Frep1%2Ecsv%2Egz\",\n",
    "                           rep1_ncbi_k562_path)\n",
    "\n",
    "rep2_ncbi_k562_path=f\"{data_root}/GSM5687485_k562_pBC_exp_rep2.csv.gz\"\n",
    "\n",
    "\n",
    "urllib.request.urlretrieve(\"https://www.ncbi.nlm.nih.gov/geo/download/?acc=GSM5687486&format=file&file=GSM5687486%5Fk562%5FpBC%5Fexp%5Frep2%2Ecsv%2Egz\",\n",
    "                           rep2_ncbi_k562_path)"
   ]
  },
  {
   "cell_type": "code",
   "execution_count": 46,
   "id": "3515d38b-8451-4363-80ac-dda455f1012f",
   "metadata": {},
   "outputs": [],
   "source": [
    "rep1_ncbi=pd.read_csv(rep1_ncbi_k562_path)\n",
    "rep2_ncbi=pd.read_csv(rep2_ncbi_k562_path)"
   ]
  },
  {
   "cell_type": "code",
   "execution_count": 49,
   "id": "36c676fb-04d2-42bc-b589-3a34949a43ca",
   "metadata": {},
   "outputs": [
    {
     "data": {
      "text/plain": [
       "True"
      ]
     },
     "execution_count": 49,
     "metadata": {},
     "output_type": "execute_result"
    }
   ],
   "source": [
    "all(rep1_ncbi==rep1) and all(rep2_ncbi==rep2)"
   ]
  },
  {
   "cell_type": "code",
   "execution_count": null,
   "id": "7f6ad3ef-9794-4555-ad1f-d143fd213912",
   "metadata": {},
   "outputs": [],
   "source": [
    "#cell_cycle\n",
    "#cell_identity"
   ]
  },
  {
   "cell_type": "markdown",
   "id": "55c734c7-f67f-4cde-8c59-78124b702a78",
   "metadata": {},
   "source": [
    "I guess I have to believe it then...? Will avoid using for now, espc since I can't independently confirm cell cycle and identity info."
   ]
  }
 ],
 "metadata": {
  "kernelspec": {
   "display_name": "Python 3 (ipykernel)",
   "language": "python",
   "name": "python3"
  },
  "language_info": {
   "codemirror_mode": {
    "name": "ipython",
    "version": 3
   },
   "file_extension": ".py",
   "mimetype": "text/x-python",
   "name": "python",
   "nbconvert_exporter": "python",
   "pygments_lexer": "ipython3",
   "version": "3.13.0"
  }
 },
 "nbformat": 4,
 "nbformat_minor": 5
}
